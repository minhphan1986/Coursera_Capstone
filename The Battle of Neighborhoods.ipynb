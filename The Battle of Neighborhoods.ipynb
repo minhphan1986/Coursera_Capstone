{
    "cells": [
        {
            "cell_type": "markdown",
            "metadata": {
                "collapsed": true
            },
            "source": "# Capstone Project - The Battle of Neighborhoods\n\n## 1. Business Problem section\n\n### 1.1 Background\n\nI live in Sydney, a place being in the world\u2019s top-10 best cities for quality of living. Among the ranking elements is the dining culture. Indeed, Sydney is famous for its high-quality restaurants and is the place where you can find all of the world's famous dishes.\n\n### 1.2 Business Problem\nOne of my friends wanted to join the competition by investing in a restaurant business in inner Sydney (i.e. the City of Sydney). He asked me which suburb and which type of restaurants are the best to invest in. To answer the question, we can cluster the suburbs in inner Sydney with similar restaurant types. The target suburb should be the one in the cluster with the least number of restaurants.\n\nThe inner Sydney consists of 29 suburbs but our focus is on 5 most crowded suburbs - Sydney, The Rocks, Haymarket, Ultimo and Pyrmont.\n\n### 1.3 Target Audience\n* Business owners who want to invest or open a restaurant. This analysis will be a comprehensive guide to start or expand restaurants in an area with the least competiton\n* Data Scientists who want to implement some of the most used Exploratory Data Analysis techniques to obtain necessary data, analyze it, and, finally be able to tell a story out of it."
        },
        {
            "cell_type": "markdown",
            "metadata": {},
            "source": "## 2. Data section\n\n### 2.1 Getting list of suburbs\n\nFirst of all, let us import all the required libraries and packages."
        },
        {
            "cell_type": "code",
            "execution_count": 108,
            "metadata": {},
            "outputs": [
                {
                    "name": "stdout",
                    "output_type": "stream",
                    "text": "Solving environment: done\n\n# All requested packages already installed.\n\nSolving environment: done\n\n# All requested packages already installed.\n\nLibraries imported.\n"
                }
            ],
            "source": "import numpy as np\nimport pandas as pd\nimport datetime as dt # Datetime\nimport json # library to handle JSON files\n\n!conda install -c conda-forge geopy --yes\nfrom geopy.geocoders import Nominatim # convert an address into latitude and longitude values\n\nimport requests # library to handle requests\nfrom pandas.io.json import json_normalize # tranform JSON file into a pandas dataframe\n\n# Matplotlib and associated plotting modules\nimport matplotlib.cm as cm\nimport matplotlib.colors as colors\n\n!conda install -c conda-forge folium=0.5.0 --yes\nimport folium #import folium # map rendering library\n\nprint('Libraries imported.')"
        },
        {
            "cell_type": "markdown",
            "metadata": {},
            "source": "We can import the list of suburbs in Sydney from arcgis."
        },
        {
            "cell_type": "code",
            "execution_count": 109,
            "metadata": {},
            "outputs": [
                {
                    "data": {
                        "text/html": "<div>\n<style scoped>\n    .dataframe tbody tr th:only-of-type {\n        vertical-align: middle;\n    }\n\n    .dataframe tbody tr th {\n        vertical-align: top;\n    }\n\n    .dataframe thead th {\n        text-align: right;\n    }\n</style>\n<table border=\"1\" class=\"dataframe\">\n  <thead>\n    <tr style=\"text-align: right;\">\n      <th></th>\n      <th>FID</th>\n      <th>NAME</th>\n      <th>F2005_06</th>\n      <th>F2006_07</th>\n      <th>F2007_08</th>\n      <th>F2008_09</th>\n      <th>F2009_10</th>\n      <th>F2010_11</th>\n      <th>F2011_12</th>\n      <th>F2012_13</th>\n      <th>F2013_14</th>\n      <th>F2014_15</th>\n      <th>Shape_Leng</th>\n      <th>Shape_Area</th>\n    </tr>\n  </thead>\n  <tbody>\n    <tr>\n      <th>0</th>\n      <td>1</td>\n      <td>Alexandria</td>\n      <td>179751048</td>\n      <td>179751048</td>\n      <td>1.803951e+08</td>\n      <td>1.644154e+08</td>\n      <td>1.542570e+08</td>\n      <td>1.623722e+08</td>\n      <td>1.631690e+08</td>\n      <td>155096161</td>\n      <td>1.455096e+08</td>\n      <td>147534614</td>\n      <td>10168.649178</td>\n      <td>3.523771e+06</td>\n    </tr>\n    <tr>\n      <th>1</th>\n      <td>2</td>\n      <td>Forest Lodge + Annandale</td>\n      <td>16720193</td>\n      <td>16720193</td>\n      <td>1.633630e+07</td>\n      <td>1.553792e+07</td>\n      <td>1.560317e+07</td>\n      <td>1.576891e+07</td>\n      <td>1.578564e+07</td>\n      <td>18743393</td>\n      <td>2.018737e+07</td>\n      <td>20761284</td>\n      <td>8654.226944</td>\n      <td>5.457704e+05</td>\n    </tr>\n    <tr>\n      <th>2</th>\n      <td>3</td>\n      <td>Millers Point + Barangaroo</td>\n      <td>39666586</td>\n      <td>39666586</td>\n      <td>4.135160e+07</td>\n      <td>4.160144e+07</td>\n      <td>4.184332e+07</td>\n      <td>4.059574e+07</td>\n      <td>3.791561e+07</td>\n      <td>34786136</td>\n      <td>3.014288e+07</td>\n      <td>37728668</td>\n      <td>3944.508809</td>\n      <td>4.634789e+05</td>\n    </tr>\n    <tr>\n      <th>3</th>\n      <td>4</td>\n      <td>Beaconsfield</td>\n      <td>8454492</td>\n      <td>8454492</td>\n      <td>1.012794e+07</td>\n      <td>1.192396e+07</td>\n      <td>1.233912e+07</td>\n      <td>1.284815e+07</td>\n      <td>1.251785e+07</td>\n      <td>9622120</td>\n      <td>5.212607e+06</td>\n      <td>5090894</td>\n      <td>1916.726468</td>\n      <td>1.674720e+05</td>\n    </tr>\n    <tr>\n      <th>4</th>\n      <td>5</td>\n      <td>Camperdown</td>\n      <td>116493273</td>\n      <td>116493273</td>\n      <td>1.195033e+08</td>\n      <td>1.225078e+08</td>\n      <td>1.260258e+08</td>\n      <td>1.267071e+08</td>\n      <td>1.245014e+08</td>\n      <td>129747022</td>\n      <td>1.334789e+08</td>\n      <td>139736392</td>\n      <td>7055.860737</td>\n      <td>1.072898e+06</td>\n    </tr>\n  </tbody>\n</table>\n</div>",
                        "text/plain": "   FID                        NAME   F2005_06   F2006_07      F2007_08  \\\n0    1                  Alexandria  179751048  179751048  1.803951e+08   \n1    2    Forest Lodge + Annandale   16720193   16720193  1.633630e+07   \n2    3  Millers Point + Barangaroo   39666586   39666586  4.135160e+07   \n3    4                Beaconsfield    8454492    8454492  1.012794e+07   \n4    5                  Camperdown  116493273  116493273  1.195033e+08   \n\n       F2008_09      F2009_10      F2010_11      F2011_12   F2012_13  \\\n0  1.644154e+08  1.542570e+08  1.623722e+08  1.631690e+08  155096161   \n1  1.553792e+07  1.560317e+07  1.576891e+07  1.578564e+07   18743393   \n2  4.160144e+07  4.184332e+07  4.059574e+07  3.791561e+07   34786136   \n3  1.192396e+07  1.233912e+07  1.284815e+07  1.251785e+07    9622120   \n4  1.225078e+08  1.260258e+08  1.267071e+08  1.245014e+08  129747022   \n\n       F2013_14   F2014_15    Shape_Leng    Shape_Area  \n0  1.455096e+08  147534614  10168.649178  3.523771e+06  \n1  2.018737e+07   20761284   8654.226944  5.457704e+05  \n2  3.014288e+07   37728668   3944.508809  4.634789e+05  \n3  5.212607e+06    5090894   1916.726468  1.674720e+05  \n4  1.334789e+08  139736392   7055.860737  1.072898e+06  "
                    },
                    "execution_count": 109,
                    "metadata": {},
                    "output_type": "execute_result"
                }
            ],
            "source": "# read suburb list from \ndf = pd.read_csv('https://opendata.arcgis.com/datasets/2a2b04faf74446309f7b22fd1d6651a2_0.csv')\ndf.head()"
        },
        {
            "cell_type": "markdown",
            "metadata": {},
            "source": "We then process the data to keep the five busiest suburbs only "
        },
        {
            "cell_type": "code",
            "execution_count": 110,
            "metadata": {},
            "outputs": [
                {
                    "data": {
                        "text/html": "<div>\n<style scoped>\n    .dataframe tbody tr th:only-of-type {\n        vertical-align: middle;\n    }\n\n    .dataframe tbody tr th {\n        vertical-align: top;\n    }\n\n    .dataframe thead th {\n        text-align: right;\n    }\n</style>\n<table border=\"1\" class=\"dataframe\">\n  <thead>\n    <tr style=\"text-align: right;\">\n      <th></th>\n      <th>NAME</th>\n    </tr>\n  </thead>\n  <tbody>\n    <tr>\n      <th>0</th>\n      <td>Alexandria</td>\n    </tr>\n    <tr>\n      <th>1</th>\n      <td>Forest Lodge + Annandale</td>\n    </tr>\n    <tr>\n      <th>2</th>\n      <td>Millers Point + Barangaroo</td>\n    </tr>\n    <tr>\n      <th>3</th>\n      <td>Beaconsfield</td>\n    </tr>\n    <tr>\n      <th>4</th>\n      <td>Camperdown</td>\n    </tr>\n  </tbody>\n</table>\n</div>",
                        "text/plain": "                         NAME\n0                  Alexandria\n1    Forest Lodge + Annandale\n2  Millers Point + Barangaroo\n3                Beaconsfield\n4                  Camperdown"
                    },
                    "execution_count": 110,
                    "metadata": {},
                    "output_type": "execute_result"
                }
            ],
            "source": "df.drop(df.columns.difference(['NAME']), 1, inplace=True)\ndf.head()"
        },
        {
            "cell_type": "code",
            "execution_count": 111,
            "metadata": {},
            "outputs": [],
            "source": "keep_list=['Sydney', 'The Rocks', 'Haymarket', 'Pyrmont', 'Ultimo']\ndf2=df[df['NAME'].isin(keep_list)]"
        },
        {
            "cell_type": "code",
            "execution_count": 112,
            "metadata": {},
            "outputs": [
                {
                    "data": {
                        "text/html": "<div>\n<style scoped>\n    .dataframe tbody tr th:only-of-type {\n        vertical-align: middle;\n    }\n\n    .dataframe tbody tr th {\n        vertical-align: top;\n    }\n\n    .dataframe thead th {\n        text-align: right;\n    }\n</style>\n<table border=\"1\" class=\"dataframe\">\n  <thead>\n    <tr style=\"text-align: right;\">\n      <th></th>\n      <th>NAME</th>\n    </tr>\n  </thead>\n  <tbody>\n    <tr>\n      <th>14</th>\n      <td>Haymarket</td>\n    </tr>\n    <tr>\n      <th>19</th>\n      <td>Pyrmont</td>\n    </tr>\n    <tr>\n      <th>24</th>\n      <td>Sydney</td>\n    </tr>\n    <tr>\n      <th>25</th>\n      <td>The Rocks</td>\n    </tr>\n    <tr>\n      <th>26</th>\n      <td>Ultimo</td>\n    </tr>\n  </tbody>\n</table>\n</div>",
                        "text/plain": "         NAME\n14  Haymarket\n19    Pyrmont\n24     Sydney\n25  The Rocks\n26     Ultimo"
                    },
                    "execution_count": 112,
                    "metadata": {},
                    "output_type": "execute_result"
                }
            ],
            "source": "df2"
        },
        {
            "cell_type": "markdown",
            "metadata": {},
            "source": "### 2.2 Getting Coordinates of suburbs\n\nWe can get the coordinates of these five suburbs using geocoder class of Geopy client"
        },
        {
            "cell_type": "code",
            "execution_count": 113,
            "metadata": {},
            "outputs": [
                {
                    "name": "stderr",
                    "output_type": "stream",
                    "text": "/opt/conda/envs/Python36/lib/python3.6/site-packages/ipykernel/__main__.py:2: SettingWithCopyWarning: \nA value is trying to be set on a copy of a slice from a DataFrame.\nTry using .loc[row_indexer,col_indexer] = value instead\n\nSee the caveats in the documentation: http://pandas.pydata.org/pandas-docs/stable/indexing.html#indexing-view-versus-copy\n  from ipykernel import kernelapp as app\n"
                }
            ],
            "source": "geolocator = Nominatim(user_agent=\"Sydney_explorer\")\ndf2['City_coord'] = df2['NAME'].apply(geolocator.geocode).apply(lambda x: (x.latitude, x.longitude))"
        },
        {
            "cell_type": "code",
            "execution_count": 114,
            "metadata": {},
            "outputs": [
                {
                    "name": "stderr",
                    "output_type": "stream",
                    "text": "/opt/conda/envs/Python36/lib/python3.6/site-packages/pandas/core/frame.py:3391: SettingWithCopyWarning: \nA value is trying to be set on a copy of a slice from a DataFrame.\nTry using .loc[row_indexer,col_indexer] = value instead\n\nSee the caveats in the documentation: http://pandas.pydata.org/pandas-docs/stable/indexing.html#indexing-view-versus-copy\n  self[k1] = value[k2]\n"
                }
            ],
            "source": "df2[['Latitude', 'Longitude']] = df2['City_coord'].apply(pd.Series)"
        },
        {
            "cell_type": "code",
            "execution_count": 115,
            "metadata": {},
            "outputs": [],
            "source": "df2 = df2.drop(columns=['City_coord'])"
        },
        {
            "cell_type": "code",
            "execution_count": 116,
            "metadata": {
                "scrolled": true
            },
            "outputs": [
                {
                    "data": {
                        "text/html": "<div>\n<style scoped>\n    .dataframe tbody tr th:only-of-type {\n        vertical-align: middle;\n    }\n\n    .dataframe tbody tr th {\n        vertical-align: top;\n    }\n\n    .dataframe thead th {\n        text-align: right;\n    }\n</style>\n<table border=\"1\" class=\"dataframe\">\n  <thead>\n    <tr style=\"text-align: right;\">\n      <th></th>\n      <th>NAME</th>\n      <th>Latitude</th>\n      <th>Longitude</th>\n    </tr>\n  </thead>\n  <tbody>\n    <tr>\n      <th>14</th>\n      <td>Haymarket</td>\n      <td>38.812140</td>\n      <td>-77.636804</td>\n    </tr>\n    <tr>\n      <th>19</th>\n      <td>Pyrmont</td>\n      <td>-33.869214</td>\n      <td>151.192363</td>\n    </tr>\n    <tr>\n      <th>24</th>\n      <td>Sydney</td>\n      <td>-33.854816</td>\n      <td>151.216454</td>\n    </tr>\n    <tr>\n      <th>25</th>\n      <td>The Rocks</td>\n      <td>-33.859992</td>\n      <td>151.208322</td>\n    </tr>\n    <tr>\n      <th>26</th>\n      <td>Ultimo</td>\n      <td>46.511994</td>\n      <td>10.899493</td>\n    </tr>\n  </tbody>\n</table>\n</div>",
                        "text/plain": "         NAME   Latitude   Longitude\n14  Haymarket  38.812140  -77.636804\n19    Pyrmont -33.869214  151.192363\n24     Sydney -33.854816  151.216454\n25  The Rocks -33.859992  151.208322\n26     Ultimo  46.511994   10.899493"
                    },
                    "execution_count": 116,
                    "metadata": {},
                    "output_type": "execute_result"
                }
            ],
            "source": "df2"
        },
        {
            "cell_type": "markdown",
            "metadata": {},
            "source": "As you can see the coordinates of Haymarket and Ultimo are completely wrong, which is due similar suburb names in other countries so, I had to replace these coordinates with values acquired from google search."
        },
        {
            "cell_type": "code",
            "execution_count": 117,
            "metadata": {},
            "outputs": [
                {
                    "name": "stderr",
                    "output_type": "stream",
                    "text": "/opt/conda/envs/Python36/lib/python3.6/site-packages/ipykernel/__main__.py:1: SettingWithCopyWarning: \nA value is trying to be set on a copy of a slice from a DataFrame\n\nSee the caveats in the documentation: http://pandas.pydata.org/pandas-docs/stable/indexing.html#indexing-view-versus-copy\n  if __name__ == '__main__':\n/opt/conda/envs/Python36/lib/python3.6/site-packages/ipykernel/__main__.py:2: SettingWithCopyWarning: \nA value is trying to be set on a copy of a slice from a DataFrame\n\nSee the caveats in the documentation: http://pandas.pydata.org/pandas-docs/stable/indexing.html#indexing-view-versus-copy\n  from ipykernel import kernelapp as app\n/opt/conda/envs/Python36/lib/python3.6/site-packages/ipykernel/__main__.py:3: SettingWithCopyWarning: \nA value is trying to be set on a copy of a slice from a DataFrame\n\nSee the caveats in the documentation: http://pandas.pydata.org/pandas-docs/stable/indexing.html#indexing-view-versus-copy\n  app.launch_new_instance()\n/opt/conda/envs/Python36/lib/python3.6/site-packages/ipykernel/__main__.py:4: SettingWithCopyWarning: \nA value is trying to be set on a copy of a slice from a DataFrame\n\nSee the caveats in the documentation: http://pandas.pydata.org/pandas-docs/stable/indexing.html#indexing-view-versus-copy\n"
                }
            ],
            "source": "df2['Latitude'][14] = -33.8809\ndf2['Longitude'][14] = 151.2029\ndf2['Latitude'][26] = -33.8822\ndf2['Longitude'][26] = 151.1970"
        },
        {
            "cell_type": "code",
            "execution_count": 118,
            "metadata": {},
            "outputs": [
                {
                    "data": {
                        "text/html": "<div>\n<style scoped>\n    .dataframe tbody tr th:only-of-type {\n        vertical-align: middle;\n    }\n\n    .dataframe tbody tr th {\n        vertical-align: top;\n    }\n\n    .dataframe thead th {\n        text-align: right;\n    }\n</style>\n<table border=\"1\" class=\"dataframe\">\n  <thead>\n    <tr style=\"text-align: right;\">\n      <th></th>\n      <th>NAME</th>\n      <th>Latitude</th>\n      <th>Longitude</th>\n    </tr>\n  </thead>\n  <tbody>\n    <tr>\n      <th>14</th>\n      <td>Haymarket</td>\n      <td>-33.880900</td>\n      <td>151.202900</td>\n    </tr>\n    <tr>\n      <th>19</th>\n      <td>Pyrmont</td>\n      <td>-33.869214</td>\n      <td>151.192363</td>\n    </tr>\n    <tr>\n      <th>24</th>\n      <td>Sydney</td>\n      <td>-33.854816</td>\n      <td>151.216454</td>\n    </tr>\n    <tr>\n      <th>25</th>\n      <td>The Rocks</td>\n      <td>-33.859992</td>\n      <td>151.208322</td>\n    </tr>\n    <tr>\n      <th>26</th>\n      <td>Ultimo</td>\n      <td>-33.882200</td>\n      <td>151.197000</td>\n    </tr>\n  </tbody>\n</table>\n</div>",
                        "text/plain": "         NAME   Latitude   Longitude\n14  Haymarket -33.880900  151.202900\n19    Pyrmont -33.869214  151.192363\n24     Sydney -33.854816  151.216454\n25  The Rocks -33.859992  151.208322\n26     Ultimo -33.882200  151.197000"
                    },
                    "execution_count": 118,
                    "metadata": {},
                    "output_type": "execute_result"
                }
            ],
            "source": "df2"
        },
        {
            "cell_type": "code",
            "execution_count": 119,
            "metadata": {},
            "outputs": [
                {
                    "name": "stderr",
                    "output_type": "stream",
                    "text": "/opt/conda/envs/Python36/lib/python3.6/site-packages/ipykernel/__main__.py:3: DeprecationWarning: Using Nominatim with the default \"geopy/1.20.0\" `user_agent` is strongly discouraged, as it violates Nominatim's ToS https://operations.osmfoundation.org/policies/nominatim/ and may possibly cause 403 and 429 HTTP errors. Please specify a custom `user_agent` with `Nominatim(user_agent=\"my-application\")` or by overriding the default `user_agent`: `geopy.geocoders.options.default_user_agent = \"my-application\"`. In geopy 2.0 this will become an exception.\n  app.launch_new_instance()\n"
                },
                {
                    "name": "stdout",
                    "output_type": "stream",
                    "text": "The geograpical coordinate of Sydney are -33.8548157, 151.2164539.\n"
                }
            ],
            "source": "address = 'Sydney, Australia'\n\ngeolocator = Nominatim()\nlocation = geolocator.geocode(address)\nlatitude = location.latitude\nlongitude = location.longitude\nprint('The geograpical coordinate of Sydney are {}, {}.'.format(latitude, longitude))"
        },
        {
            "cell_type": "markdown",
            "metadata": {},
            "source": "Visualisation of the five districts"
        },
        {
            "cell_type": "code",
            "execution_count": 120,
            "metadata": {},
            "outputs": [
                {
                    "data": {
                        "text/html": "<div style=\"width:100%;\"><div style=\"position:relative;width:100%;height:0;padding-bottom:60%;\"><iframe src=\"data:text/html;charset=utf-8;base64,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\" style=\"position:absolute;width:100%;height:100%;left:0;top:0;border:none !important;\" allowfullscreen webkitallowfullscreen mozallowfullscreen></iframe></div></div>",
                        "text/plain": "<folium.folium.Map at 0x7fdf6b811c18>"
                    },
                    "execution_count": 120,
                    "metadata": {},
                    "output_type": "execute_result"
                }
            ],
            "source": "map_sydney = folium.Map(location=[latitude, longitude], zoom_start=13)\n\n# add markers to map\nfor lat, lng, suburb in zip(df2['Latitude'], df2['Longitude'], df2['NAME']):\n    label = '{}'.format(suburb)\n    label = folium.Popup(label, parse_html=True)\n    folium.CircleMarker(\n        [lat, lng],\n        radius=5,\n        popup=label,\n        color='blue',\n        fill=True,\n        fill_color='#3186cc',\n        fill_opacity=0.7,\n        parse_html=False).add_to(map_sydney)  \n    \nmap_sydney"
        },
        {
            "cell_type": "markdown",
            "metadata": {},
            "source": "Looking at the map, you can clearly tell that the coordination of Sydney suburb is wrong (i.e. right in the water). Therefore, we should replace it with Town Hall Station coordinate, which is the centre of Sydney CBD"
        },
        {
            "cell_type": "code",
            "execution_count": 121,
            "metadata": {},
            "outputs": [
                {
                    "name": "stderr",
                    "output_type": "stream",
                    "text": "/opt/conda/envs/Python36/lib/python3.6/site-packages/ipykernel/__main__.py:1: SettingWithCopyWarning: \nA value is trying to be set on a copy of a slice from a DataFrame\n\nSee the caveats in the documentation: http://pandas.pydata.org/pandas-docs/stable/indexing.html#indexing-view-versus-copy\n  if __name__ == '__main__':\n/opt/conda/envs/Python36/lib/python3.6/site-packages/ipykernel/__main__.py:2: SettingWithCopyWarning: \nA value is trying to be set on a copy of a slice from a DataFrame\n\nSee the caveats in the documentation: http://pandas.pydata.org/pandas-docs/stable/indexing.html#indexing-view-versus-copy\n  from ipykernel import kernelapp as app\n"
                }
            ],
            "source": "df2['Latitude'][24] = -33.8735\ndf2['Longitude'][24] = 151.2069"
        },
        {
            "cell_type": "markdown",
            "metadata": {},
            "source": "### 2.3 Using Foursquare Location Data\n\nTo explore and target recommended locations across different venues according to the presence of restaurants, we will access data through FourSquare API interface and arrange them as a dataframe for visualization. Foursquare data is very comprehensive and it powers location data for Apple, Uber etc. For this business problem I have used, as a part of the assignment, the Foursquare API to retrieve information about the popular spots around these five suburbs.\n\nIn this analysis, I\u2019ve chosen 100 popular spots for each major suburb within a radius of 0.5 km."
        },
        {
            "cell_type": "code",
            "execution_count": 122,
            "metadata": {},
            "outputs": [
                {
                    "name": "stdout",
                    "output_type": "stream",
                    "text": "Your credentails:\nCLIENT_ID: TBSAWZA34Y1WK5SFX0LKDMURD2U1C3C5AWE1SWSVTE5J2AXJ\nCLIENT_SECRET:0B5O15IRU01GNF1N42ONWDZTTUPQFADEJNSF1RBKIHFCJEE5\n"
                }
            ],
            "source": "CLIENT_ID = 'TBSAWZA34Y1WK5SFX0LKDMURD2U1C3C5AWE1SWSVTE5J2AXJ' # your Foursquare ID\nCLIENT_SECRET = '0B5O15IRU01GNF1N42ONWDZTTUPQFADEJNSF1RBKIHFCJEE5' # your Foursquare Secret\nVERSION = '20180605' # Foursquare API version\n\nprint('Your credentails:')\nprint('CLIENT_ID: ' + CLIENT_ID)\nprint('CLIENT_SECRET:' + CLIENT_SECRET)"
        },
        {
            "cell_type": "code",
            "execution_count": 123,
            "metadata": {},
            "outputs": [],
            "source": "def getNearbyVenues(names, latitudes, longitudes, radius=500, LIMIT = 100):\n    \n    venues_list=[]\n    for name, lat, lng in zip(names, latitudes, longitudes):\n        print(name)\n            \n        # create the API request URL\n        url = 'https://api.foursquare.com/v2/venues/explore?&client_id={}&client_secret={}&v={}&ll={},{}&radius={}&limit={}'.format(\n            CLIENT_ID, \n            CLIENT_SECRET, \n            VERSION, \n            lat, \n            lng, \n            radius, \n            LIMIT)\n            \n        # make the GET request\n        results = requests.get(url).json()[\"response\"]['groups'][0]['items']\n        \n        # return only relevant information for each nearby venue\n        venues_list.append([(\n            name, \n            lat, \n            lng, \n            v['venue']['name'], \n            v['venue']['location']['lat'], \n            v['venue']['location']['lng'],  \n            v['venue']['categories'][0]['name']) for v in results])\n\n    nearby_venues = pd.DataFrame([item for venue_list in venues_list for item in venue_list])\n    nearby_venues.columns = ['Suburb', \n                  'Suburb Latitude', \n                  'Suburb Longitude', \n                  'Venue', \n                  'Venue Latitude', \n                  'Venue Longitude', \n                  'Venue Category']\n    \n    return(nearby_venues)"
        },
        {
            "cell_type": "code",
            "execution_count": 124,
            "metadata": {},
            "outputs": [
                {
                    "name": "stdout",
                    "output_type": "stream",
                    "text": "Haymarket\nPyrmont\nSydney\nThe Rocks\nUltimo\nShape of venue dataframe is  (364, 7)\n"
                },
                {
                    "data": {
                        "text/html": "<div>\n<style scoped>\n    .dataframe tbody tr th:only-of-type {\n        vertical-align: middle;\n    }\n\n    .dataframe tbody tr th {\n        vertical-align: top;\n    }\n\n    .dataframe thead th {\n        text-align: right;\n    }\n</style>\n<table border=\"1\" class=\"dataframe\">\n  <thead>\n    <tr style=\"text-align: right;\">\n      <th></th>\n      <th>Suburb</th>\n      <th>Suburb Latitude</th>\n      <th>Suburb Longitude</th>\n      <th>Venue</th>\n      <th>Venue Latitude</th>\n      <th>Venue Longitude</th>\n      <th>Venue Category</th>\n    </tr>\n  </thead>\n  <tbody>\n    <tr>\n      <th>0</th>\n      <td>Haymarket</td>\n      <td>-33.8809</td>\n      <td>151.2029</td>\n      <td>Do Dee Paidang</td>\n      <td>-33.880670</td>\n      <td>151.203018</td>\n      <td>Thai Restaurant</td>\n    </tr>\n    <tr>\n      <th>1</th>\n      <td>Haymarket</td>\n      <td>-33.8809</td>\n      <td>151.2029</td>\n      <td>Satang Thai | \u0e2a\u0e15\u0e32\u0e07\u0e04\u0e4c (Satang Thai)</td>\n      <td>-33.882317</td>\n      <td>151.203684</td>\n      <td>Thai Restaurant</td>\n    </tr>\n    <tr>\n      <th>2</th>\n      <td>Haymarket</td>\n      <td>-33.8809</td>\n      <td>151.2029</td>\n      <td>Ho Jiak</td>\n      <td>-33.879303</td>\n      <td>151.203520</td>\n      <td>Malay Restaurant</td>\n    </tr>\n    <tr>\n      <th>3</th>\n      <td>Haymarket</td>\n      <td>-33.8809</td>\n      <td>151.2029</td>\n      <td>Wake Up! Sydney</td>\n      <td>-33.882448</td>\n      <td>151.204836</td>\n      <td>Hostel</td>\n    </tr>\n    <tr>\n      <th>4</th>\n      <td>Haymarket</td>\n      <td>-33.8809</td>\n      <td>151.2029</td>\n      <td>Kura Japanese Dining</td>\n      <td>-33.880216</td>\n      <td>151.204244</td>\n      <td>Japanese Restaurant</td>\n    </tr>\n  </tbody>\n</table>\n</div>",
                        "text/plain": "      Suburb  Suburb Latitude  Suburb Longitude  \\\n0  Haymarket         -33.8809          151.2029   \n1  Haymarket         -33.8809          151.2029   \n2  Haymarket         -33.8809          151.2029   \n3  Haymarket         -33.8809          151.2029   \n4  Haymarket         -33.8809          151.2029   \n\n                                Venue  Venue Latitude  Venue Longitude  \\\n0                      Do Dee Paidang      -33.880670       151.203018   \n1  Satang Thai | \u0e2a\u0e15\u0e32\u0e07\u0e04\u0e4c (Satang Thai)      -33.882317       151.203684   \n2                             Ho Jiak      -33.879303       151.203520   \n3                     Wake Up! Sydney      -33.882448       151.204836   \n4                Kura Japanese Dining      -33.880216       151.204244   \n\n        Venue Category  \n0      Thai Restaurant  \n1      Thai Restaurant  \n2     Malay Restaurant  \n3               Hostel  \n4  Japanese Restaurant  "
                    },
                    "execution_count": 124,
                    "metadata": {},
                    "output_type": "execute_result"
                }
            ],
            "source": "sydney_venues = getNearbyVenues(names=df2['NAME'],\n                                   latitudes=df2['Latitude'],\n                                   longitudes=df2['Longitude']\n                                  )\n\nprint(\"Shape of venue dataframe is \", sydney_venues.shape)\nsydney_venues.head()"
        },
        {
            "cell_type": "markdown",
            "metadata": {},
            "source": "A quick look at the number of venues in each suburb:"
        },
        {
            "cell_type": "code",
            "execution_count": 125,
            "metadata": {},
            "outputs": [
                {
                    "data": {
                        "text/html": "<div>\n<style scoped>\n    .dataframe tbody tr th:only-of-type {\n        vertical-align: middle;\n    }\n\n    .dataframe tbody tr th {\n        vertical-align: top;\n    }\n\n    .dataframe thead th {\n        text-align: right;\n    }\n</style>\n<table border=\"1\" class=\"dataframe\">\n  <thead>\n    <tr style=\"text-align: right;\">\n      <th></th>\n      <th>Suburb Latitude</th>\n      <th>Suburb Longitude</th>\n      <th>Venue</th>\n      <th>Venue Latitude</th>\n      <th>Venue Longitude</th>\n      <th>Venue Category</th>\n    </tr>\n    <tr>\n      <th>Suburb</th>\n      <th></th>\n      <th></th>\n      <th></th>\n      <th></th>\n      <th></th>\n      <th></th>\n    </tr>\n  </thead>\n  <tbody>\n    <tr>\n      <th>Haymarket</th>\n      <td>71</td>\n      <td>71</td>\n      <td>71</td>\n      <td>71</td>\n      <td>71</td>\n      <td>71</td>\n    </tr>\n    <tr>\n      <th>Pyrmont</th>\n      <td>38</td>\n      <td>38</td>\n      <td>38</td>\n      <td>38</td>\n      <td>38</td>\n      <td>38</td>\n    </tr>\n    <tr>\n      <th>Sydney</th>\n      <td>100</td>\n      <td>100</td>\n      <td>100</td>\n      <td>100</td>\n      <td>100</td>\n      <td>100</td>\n    </tr>\n    <tr>\n      <th>The Rocks</th>\n      <td>100</td>\n      <td>100</td>\n      <td>100</td>\n      <td>100</td>\n      <td>100</td>\n      <td>100</td>\n    </tr>\n    <tr>\n      <th>Ultimo</th>\n      <td>55</td>\n      <td>55</td>\n      <td>55</td>\n      <td>55</td>\n      <td>55</td>\n      <td>55</td>\n    </tr>\n  </tbody>\n</table>\n</div>",
                        "text/plain": "           Suburb Latitude  Suburb Longitude  Venue  Venue Latitude  \\\nSuburb                                                                \nHaymarket               71                71     71              71   \nPyrmont                 38                38     38              38   \nSydney                 100               100    100             100   \nThe Rocks              100               100    100             100   \nUltimo                  55                55     55              55   \n\n           Venue Longitude  Venue Category  \nSuburb                                      \nHaymarket               71              71  \nPyrmont                 38              38  \nSydney                 100             100  \nThe Rocks              100             100  \nUltimo                  55              55  "
                    },
                    "execution_count": 125,
                    "metadata": {},
                    "output_type": "execute_result"
                }
            ],
            "source": "sydney_venues.groupby('Suburb').count()"
        },
        {
            "cell_type": "code",
            "execution_count": 126,
            "metadata": {},
            "outputs": [
                {
                    "name": "stdout",
                    "output_type": "stream",
                    "text": "There are 103 uniques categories.\n"
                }
            ],
            "source": "# get the List of Unique Categories\nprint('There are {} uniques categories.'.format(len(sydney_venues['Venue Category'].unique())))"
        },
        {
            "cell_type": "markdown",
            "metadata": {},
            "source": "## 3. Exploratory Data Analysis\n\n### 3.1 Processing data\n\nTo make the data ready for analysing, we create a data-frame with pandas one hot encoding for the venue categories"
        },
        {
            "cell_type": "code",
            "execution_count": 127,
            "metadata": {},
            "outputs": [
                {
                    "data": {
                        "text/html": "<div>\n<style scoped>\n    .dataframe tbody tr th:only-of-type {\n        vertical-align: middle;\n    }\n\n    .dataframe tbody tr th {\n        vertical-align: top;\n    }\n\n    .dataframe thead th {\n        text-align: right;\n    }\n</style>\n<table border=\"1\" class=\"dataframe\">\n  <thead>\n    <tr style=\"text-align: right;\">\n      <th></th>\n      <th>Suburb</th>\n      <th>Art Gallery</th>\n      <th>Art Museum</th>\n      <th>Asian Restaurant</th>\n      <th>Australian Restaurant</th>\n      <th>BBQ Joint</th>\n      <th>Bakery</th>\n      <th>Bar</th>\n      <th>Basketball Court</th>\n      <th>Bistro</th>\n      <th>...</th>\n      <th>Thai Restaurant</th>\n      <th>Theater</th>\n      <th>Tour Provider</th>\n      <th>Trail</th>\n      <th>Udon Restaurant</th>\n      <th>Vegetarian / Vegan Restaurant</th>\n      <th>Video Game Store</th>\n      <th>Vietnamese Restaurant</th>\n      <th>Whisky Bar</th>\n      <th>Wine Bar</th>\n    </tr>\n  </thead>\n  <tbody>\n    <tr>\n      <th>0</th>\n      <td>Haymarket</td>\n      <td>0</td>\n      <td>0</td>\n      <td>0</td>\n      <td>0</td>\n      <td>0</td>\n      <td>0</td>\n      <td>0</td>\n      <td>0</td>\n      <td>0</td>\n      <td>...</td>\n      <td>1</td>\n      <td>0</td>\n      <td>0</td>\n      <td>0</td>\n      <td>0</td>\n      <td>0</td>\n      <td>0</td>\n      <td>0</td>\n      <td>0</td>\n      <td>0</td>\n    </tr>\n    <tr>\n      <th>1</th>\n      <td>Haymarket</td>\n      <td>0</td>\n      <td>0</td>\n      <td>0</td>\n      <td>0</td>\n      <td>0</td>\n      <td>0</td>\n      <td>0</td>\n      <td>0</td>\n      <td>0</td>\n      <td>...</td>\n      <td>1</td>\n      <td>0</td>\n      <td>0</td>\n      <td>0</td>\n      <td>0</td>\n      <td>0</td>\n      <td>0</td>\n      <td>0</td>\n      <td>0</td>\n      <td>0</td>\n    </tr>\n    <tr>\n      <th>2</th>\n      <td>Haymarket</td>\n      <td>0</td>\n      <td>0</td>\n      <td>0</td>\n      <td>0</td>\n      <td>0</td>\n      <td>0</td>\n      <td>0</td>\n      <td>0</td>\n      <td>0</td>\n      <td>...</td>\n      <td>0</td>\n      <td>0</td>\n      <td>0</td>\n      <td>0</td>\n      <td>0</td>\n      <td>0</td>\n      <td>0</td>\n      <td>0</td>\n      <td>0</td>\n      <td>0</td>\n    </tr>\n    <tr>\n      <th>3</th>\n      <td>Haymarket</td>\n      <td>0</td>\n      <td>0</td>\n      <td>0</td>\n      <td>0</td>\n      <td>0</td>\n      <td>0</td>\n      <td>0</td>\n      <td>0</td>\n      <td>0</td>\n      <td>...</td>\n      <td>0</td>\n      <td>0</td>\n      <td>0</td>\n      <td>0</td>\n      <td>0</td>\n      <td>0</td>\n      <td>0</td>\n      <td>0</td>\n      <td>0</td>\n      <td>0</td>\n    </tr>\n    <tr>\n      <th>4</th>\n      <td>Haymarket</td>\n      <td>0</td>\n      <td>0</td>\n      <td>0</td>\n      <td>0</td>\n      <td>0</td>\n      <td>0</td>\n      <td>0</td>\n      <td>0</td>\n      <td>0</td>\n      <td>...</td>\n      <td>0</td>\n      <td>0</td>\n      <td>0</td>\n      <td>0</td>\n      <td>0</td>\n      <td>0</td>\n      <td>0</td>\n      <td>0</td>\n      <td>0</td>\n      <td>0</td>\n    </tr>\n  </tbody>\n</table>\n<p>5 rows \u00d7 104 columns</p>\n</div>",
                        "text/plain": "      Suburb  Art Gallery  Art Museum  Asian Restaurant  \\\n0  Haymarket            0           0                 0   \n1  Haymarket            0           0                 0   \n2  Haymarket            0           0                 0   \n3  Haymarket            0           0                 0   \n4  Haymarket            0           0                 0   \n\n   Australian Restaurant  BBQ Joint  Bakery  Bar  Basketball Court  Bistro  \\\n0                      0          0       0    0                 0       0   \n1                      0          0       0    0                 0       0   \n2                      0          0       0    0                 0       0   \n3                      0          0       0    0                 0       0   \n4                      0          0       0    0                 0       0   \n\n   ...  Thai Restaurant  Theater  Tour Provider  Trail  Udon Restaurant  \\\n0  ...                1        0              0      0                0   \n1  ...                1        0              0      0                0   \n2  ...                0        0              0      0                0   \n3  ...                0        0              0      0                0   \n4  ...                0        0              0      0                0   \n\n   Vegetarian / Vegan Restaurant  Video Game Store  Vietnamese Restaurant  \\\n0                              0                 0                      0   \n1                              0                 0                      0   \n2                              0                 0                      0   \n3                              0                 0                      0   \n4                              0                 0                      0   \n\n   Whisky Bar  Wine Bar  \n0           0         0  \n1           0         0  \n2           0         0  \n3           0         0  \n4           0         0  \n\n[5 rows x 104 columns]"
                    },
                    "execution_count": 127,
                    "metadata": {},
                    "output_type": "execute_result"
                }
            ],
            "source": "# one hot encoding\nvenues_onehot = pd.get_dummies(sydney_venues[['Venue Category']], prefix=\"\", prefix_sep=\"\")\n\n# add street column back to dataframe\nvenues_onehot['Suburb'] = sydney_venues['Suburb'] \n\n# move street column to the first column\nfixed_columns = [venues_onehot.columns[-1]] + list(venues_onehot.columns[:-1])\n\n#fixed_columns\nvenues_onehot = venues_onehot[fixed_columns]\n\nvenues_onehot.head()"
        },
        {
            "cell_type": "code",
            "execution_count": 128,
            "metadata": {},
            "outputs": [
                {
                    "data": {
                        "text/html": "<div>\n<style scoped>\n    .dataframe tbody tr th:only-of-type {\n        vertical-align: middle;\n    }\n\n    .dataframe tbody tr th {\n        vertical-align: top;\n    }\n\n    .dataframe thead th {\n        text-align: right;\n    }\n</style>\n<table border=\"1\" class=\"dataframe\">\n  <thead>\n    <tr style=\"text-align: right;\">\n      <th></th>\n      <th>Suburb</th>\n      <th>Art Gallery</th>\n      <th>Art Museum</th>\n      <th>Asian Restaurant</th>\n      <th>Australian Restaurant</th>\n      <th>BBQ Joint</th>\n      <th>Bakery</th>\n      <th>Bar</th>\n      <th>Basketball Court</th>\n      <th>Bistro</th>\n      <th>...</th>\n      <th>Thai Restaurant</th>\n      <th>Theater</th>\n      <th>Tour Provider</th>\n      <th>Trail</th>\n      <th>Udon Restaurant</th>\n      <th>Vegetarian / Vegan Restaurant</th>\n      <th>Video Game Store</th>\n      <th>Vietnamese Restaurant</th>\n      <th>Whisky Bar</th>\n      <th>Wine Bar</th>\n    </tr>\n  </thead>\n  <tbody>\n    <tr>\n      <th>0</th>\n      <td>Haymarket</td>\n      <td>0.000000</td>\n      <td>0.00</td>\n      <td>0.014085</td>\n      <td>0.000000</td>\n      <td>0.014085</td>\n      <td>0.014085</td>\n      <td>0.014085</td>\n      <td>0.000000</td>\n      <td>0.00</td>\n      <td>...</td>\n      <td>0.154930</td>\n      <td>0.014085</td>\n      <td>0.00</td>\n      <td>0.00</td>\n      <td>0.00</td>\n      <td>0.000000</td>\n      <td>0.00</td>\n      <td>0.014085</td>\n      <td>0.00</td>\n      <td>0.00</td>\n    </tr>\n    <tr>\n      <th>1</th>\n      <td>Pyrmont</td>\n      <td>0.000000</td>\n      <td>0.00</td>\n      <td>0.026316</td>\n      <td>0.026316</td>\n      <td>0.000000</td>\n      <td>0.026316</td>\n      <td>0.105263</td>\n      <td>0.000000</td>\n      <td>0.00</td>\n      <td>...</td>\n      <td>0.000000</td>\n      <td>0.026316</td>\n      <td>0.00</td>\n      <td>0.00</td>\n      <td>0.00</td>\n      <td>0.000000</td>\n      <td>0.00</td>\n      <td>0.026316</td>\n      <td>0.00</td>\n      <td>0.00</td>\n    </tr>\n    <tr>\n      <th>2</th>\n      <td>Sydney</td>\n      <td>0.000000</td>\n      <td>0.00</td>\n      <td>0.000000</td>\n      <td>0.020000</td>\n      <td>0.000000</td>\n      <td>0.010000</td>\n      <td>0.020000</td>\n      <td>0.000000</td>\n      <td>0.00</td>\n      <td>...</td>\n      <td>0.020000</td>\n      <td>0.010000</td>\n      <td>0.00</td>\n      <td>0.00</td>\n      <td>0.01</td>\n      <td>0.000000</td>\n      <td>0.01</td>\n      <td>0.000000</td>\n      <td>0.01</td>\n      <td>0.01</td>\n    </tr>\n    <tr>\n      <th>3</th>\n      <td>The Rocks</td>\n      <td>0.000000</td>\n      <td>0.01</td>\n      <td>0.010000</td>\n      <td>0.060000</td>\n      <td>0.000000</td>\n      <td>0.020000</td>\n      <td>0.010000</td>\n      <td>0.000000</td>\n      <td>0.01</td>\n      <td>...</td>\n      <td>0.010000</td>\n      <td>0.010000</td>\n      <td>0.01</td>\n      <td>0.01</td>\n      <td>0.00</td>\n      <td>0.000000</td>\n      <td>0.00</td>\n      <td>0.000000</td>\n      <td>0.00</td>\n      <td>0.01</td>\n    </tr>\n    <tr>\n      <th>4</th>\n      <td>Ultimo</td>\n      <td>0.018182</td>\n      <td>0.00</td>\n      <td>0.000000</td>\n      <td>0.018182</td>\n      <td>0.000000</td>\n      <td>0.000000</td>\n      <td>0.036364</td>\n      <td>0.018182</td>\n      <td>0.00</td>\n      <td>...</td>\n      <td>0.018182</td>\n      <td>0.000000</td>\n      <td>0.00</td>\n      <td>0.00</td>\n      <td>0.00</td>\n      <td>0.018182</td>\n      <td>0.00</td>\n      <td>0.000000</td>\n      <td>0.00</td>\n      <td>0.00</td>\n    </tr>\n  </tbody>\n</table>\n<p>5 rows \u00d7 104 columns</p>\n</div>",
                        "text/plain": "      Suburb  Art Gallery  Art Museum  Asian Restaurant  \\\n0  Haymarket     0.000000        0.00          0.014085   \n1    Pyrmont     0.000000        0.00          0.026316   \n2     Sydney     0.000000        0.00          0.000000   \n3  The Rocks     0.000000        0.01          0.010000   \n4     Ultimo     0.018182        0.00          0.000000   \n\n   Australian Restaurant  BBQ Joint    Bakery       Bar  Basketball Court  \\\n0               0.000000   0.014085  0.014085  0.014085          0.000000   \n1               0.026316   0.000000  0.026316  0.105263          0.000000   \n2               0.020000   0.000000  0.010000  0.020000          0.000000   \n3               0.060000   0.000000  0.020000  0.010000          0.000000   \n4               0.018182   0.000000  0.000000  0.036364          0.018182   \n\n   Bistro  ...  Thai Restaurant   Theater  Tour Provider  Trail  \\\n0    0.00  ...         0.154930  0.014085           0.00   0.00   \n1    0.00  ...         0.000000  0.026316           0.00   0.00   \n2    0.00  ...         0.020000  0.010000           0.00   0.00   \n3    0.01  ...         0.010000  0.010000           0.01   0.01   \n4    0.00  ...         0.018182  0.000000           0.00   0.00   \n\n   Udon Restaurant  Vegetarian / Vegan Restaurant  Video Game Store  \\\n0             0.00                       0.000000              0.00   \n1             0.00                       0.000000              0.00   \n2             0.01                       0.000000              0.01   \n3             0.00                       0.000000              0.00   \n4             0.00                       0.018182              0.00   \n\n   Vietnamese Restaurant  Whisky Bar  Wine Bar  \n0               0.014085        0.00      0.00  \n1               0.026316        0.00      0.00  \n2               0.000000        0.01      0.01  \n3               0.000000        0.00      0.01  \n4               0.000000        0.00      0.00  \n\n[5 rows x 104 columns]"
                    },
                    "execution_count": 128,
                    "metadata": {},
                    "output_type": "execute_result"
                }
            ],
            "source": "sydney_grouped = venues_onehot.groupby('Suburb').mean().reset_index()\nsydney_grouped"
        },
        {
            "cell_type": "markdown",
            "metadata": {},
            "source": "### 3.2 Analysing the top venues\n\nThis analysis is to identify the top venues in suburb to get a deeper understanding of the data."
        },
        {
            "cell_type": "code",
            "execution_count": 130,
            "metadata": {},
            "outputs": [],
            "source": "num_top_venues = 10\n\nindicators = ['st', 'nd', 'rd']\n\n# create columns according to number of top venues\ncolumns = ['Suburb']\nfor ind in np.arange(num_top_venues):\n    try:\n        columns.append('{}{} Most Common Venue'.format(ind+1, indicators[ind]))\n    except:\n        columns.append('{}th Most Common Venue'.format(ind+1))"
        },
        {
            "cell_type": "code",
            "execution_count": 131,
            "metadata": {},
            "outputs": [],
            "source": "# Define a function to return the most common venue\n\ndef return_most_common_venues(row, num_top_venues):\n    row_categories = row.iloc[1:]\n    row_categories_sorted = row_categories.sort_values(ascending=False)\n    \n    return row_categories_sorted.index.values[0:num_top_venues]"
        },
        {
            "cell_type": "code",
            "execution_count": 132,
            "metadata": {},
            "outputs": [],
            "source": "# create a new dataframe\nvenues_sorted = pd.DataFrame(columns=columns)\nvenues_sorted['Suburb'] = sydney_grouped['Suburb']\n\nfor ind in np.arange(sydney_grouped.shape[0]):\n    venues_sorted.iloc[ind, 1:] = return_most_common_venues(sydney_grouped.iloc[ind, :], num_top_venues)"
        },
        {
            "cell_type": "markdown",
            "metadata": {},
            "source": "The top ten venues of each suburb are shown below:"
        },
        {
            "cell_type": "code",
            "execution_count": 133,
            "metadata": {},
            "outputs": [
                {
                    "data": {
                        "text/html": "<div>\n<style scoped>\n    .dataframe tbody tr th:only-of-type {\n        vertical-align: middle;\n    }\n\n    .dataframe tbody tr th {\n        vertical-align: top;\n    }\n\n    .dataframe thead th {\n        text-align: right;\n    }\n</style>\n<table border=\"1\" class=\"dataframe\">\n  <thead>\n    <tr style=\"text-align: right;\">\n      <th></th>\n      <th>Suburb</th>\n      <th>1st Most Common Venue</th>\n      <th>2nd Most Common Venue</th>\n      <th>3rd Most Common Venue</th>\n      <th>4th Most Common Venue</th>\n      <th>5th Most Common Venue</th>\n      <th>6th Most Common Venue</th>\n      <th>7th Most Common Venue</th>\n      <th>8th Most Common Venue</th>\n      <th>9th Most Common Venue</th>\n      <th>10th Most Common Venue</th>\n    </tr>\n  </thead>\n  <tbody>\n    <tr>\n      <th>0</th>\n      <td>Haymarket</td>\n      <td>Thai Restaurant</td>\n      <td>Chinese Restaurant</td>\n      <td>Coffee Shop</td>\n      <td>Caf\u00e9</td>\n      <td>Ice Cream Shop</td>\n      <td>Korean Restaurant</td>\n      <td>Hostel</td>\n      <td>Japanese Restaurant</td>\n      <td>Hotpot Restaurant</td>\n      <td>Hotel</td>\n    </tr>\n    <tr>\n      <th>1</th>\n      <td>Pyrmont</td>\n      <td>Caf\u00e9</td>\n      <td>Bar</td>\n      <td>Fish Market</td>\n      <td>Seafood Restaurant</td>\n      <td>Pub</td>\n      <td>Restaurant</td>\n      <td>Japanese Restaurant</td>\n      <td>Hotel</td>\n      <td>Breakfast Spot</td>\n      <td>Park</td>\n    </tr>\n    <tr>\n      <th>2</th>\n      <td>Sydney</td>\n      <td>Japanese Restaurant</td>\n      <td>Coffee Shop</td>\n      <td>Caf\u00e9</td>\n      <td>Hotel</td>\n      <td>Cocktail Bar</td>\n      <td>Shopping Mall</td>\n      <td>Korean Restaurant</td>\n      <td>Bubble Tea Shop</td>\n      <td>Bookstore</td>\n      <td>Malay Restaurant</td>\n    </tr>\n    <tr>\n      <th>3</th>\n      <td>The Rocks</td>\n      <td>Caf\u00e9</td>\n      <td>Hotel</td>\n      <td>Australian Restaurant</td>\n      <td>Pub</td>\n      <td>Italian Restaurant</td>\n      <td>Cocktail Bar</td>\n      <td>Brewery</td>\n      <td>Hotel Bar</td>\n      <td>Park</td>\n      <td>Museum</td>\n    </tr>\n    <tr>\n      <th>4</th>\n      <td>Ultimo</td>\n      <td>Caf\u00e9</td>\n      <td>Coffee Shop</td>\n      <td>Dumpling Restaurant</td>\n      <td>Hotel</td>\n      <td>Ice Cream Shop</td>\n      <td>Bar</td>\n      <td>Supermarket</td>\n      <td>Art Gallery</td>\n      <td>Pool</td>\n      <td>Gym / Fitness Center</td>\n    </tr>\n  </tbody>\n</table>\n</div>",
                        "text/plain": "      Suburb 1st Most Common Venue 2nd Most Common Venue  \\\n0  Haymarket       Thai Restaurant    Chinese Restaurant   \n1    Pyrmont                  Caf\u00e9                   Bar   \n2     Sydney   Japanese Restaurant           Coffee Shop   \n3  The Rocks                  Caf\u00e9                 Hotel   \n4     Ultimo                  Caf\u00e9           Coffee Shop   \n\n   3rd Most Common Venue 4th Most Common Venue 5th Most Common Venue  \\\n0            Coffee Shop                  Caf\u00e9        Ice Cream Shop   \n1            Fish Market    Seafood Restaurant                   Pub   \n2                   Caf\u00e9                 Hotel          Cocktail Bar   \n3  Australian Restaurant                   Pub    Italian Restaurant   \n4    Dumpling Restaurant                 Hotel        Ice Cream Shop   \n\n  6th Most Common Venue 7th Most Common Venue 8th Most Common Venue  \\\n0     Korean Restaurant                Hostel   Japanese Restaurant   \n1            Restaurant   Japanese Restaurant                 Hotel   \n2         Shopping Mall     Korean Restaurant       Bubble Tea Shop   \n3          Cocktail Bar               Brewery             Hotel Bar   \n4                   Bar           Supermarket           Art Gallery   \n\n  9th Most Common Venue 10th Most Common Venue  \n0     Hotpot Restaurant                  Hotel  \n1        Breakfast Spot                   Park  \n2             Bookstore       Malay Restaurant  \n3                  Park                 Museum  \n4                  Pool   Gym / Fitness Center  "
                    },
                    "execution_count": 133,
                    "metadata": {},
                    "output_type": "execute_result"
                }
            ],
            "source": "venues_sorted.head()"
        },
        {
            "cell_type": "markdown",
            "metadata": {},
            "source": "### 3.3 Clustering the suburbs\n\nWe cluster these five suburbs based on the venue categories and use K-Means clustering. So our expectation would be based on the similarities of venue categories, these districts will be clustered."
        },
        {
            "cell_type": "code",
            "execution_count": 134,
            "metadata": {},
            "outputs": [
                {
                    "data": {
                        "text/plain": "array([0, 1, 2, 2, 1], dtype=int32)"
                    },
                    "execution_count": 134,
                    "metadata": {},
                    "output_type": "execute_result"
                }
            ],
            "source": "#Distribute in 3 Clusters\nfrom sklearn.cluster import KMeans \nfrom sklearn.datasets.samples_generator import make_blobs\n# set number of clusters\nkclusters = 3\n\nsydney_grouped_clustering = sydney_grouped.drop('Suburb', 1)\n\n# run k-means clustering\nkmeans = KMeans(n_clusters=kclusters, random_state=0).fit(sydney_grouped_clustering)\n\n# check cluster labels generated for each row in the dataframe\nkmeans.labels_[0:50]"
        },
        {
            "cell_type": "code",
            "execution_count": 135,
            "metadata": {},
            "outputs": [
                {
                    "data": {
                        "text/html": "<div>\n<style scoped>\n    .dataframe tbody tr th:only-of-type {\n        vertical-align: middle;\n    }\n\n    .dataframe tbody tr th {\n        vertical-align: top;\n    }\n\n    .dataframe thead th {\n        text-align: right;\n    }\n</style>\n<table border=\"1\" class=\"dataframe\">\n  <thead>\n    <tr style=\"text-align: right;\">\n      <th></th>\n      <th>Art Gallery</th>\n      <th>Art Museum</th>\n      <th>Asian Restaurant</th>\n      <th>Australian Restaurant</th>\n      <th>BBQ Joint</th>\n      <th>Bakery</th>\n      <th>Bar</th>\n      <th>Basketball Court</th>\n      <th>Bistro</th>\n      <th>Bookstore</th>\n      <th>...</th>\n      <th>Thai Restaurant</th>\n      <th>Theater</th>\n      <th>Tour Provider</th>\n      <th>Trail</th>\n      <th>Udon Restaurant</th>\n      <th>Vegetarian / Vegan Restaurant</th>\n      <th>Video Game Store</th>\n      <th>Vietnamese Restaurant</th>\n      <th>Whisky Bar</th>\n      <th>Wine Bar</th>\n    </tr>\n  </thead>\n  <tbody>\n    <tr>\n      <th>0</th>\n      <td>0.000000</td>\n      <td>0.00</td>\n      <td>0.014085</td>\n      <td>0.000000</td>\n      <td>0.014085</td>\n      <td>0.014085</td>\n      <td>0.014085</td>\n      <td>0.000000</td>\n      <td>0.00</td>\n      <td>0.014085</td>\n      <td>...</td>\n      <td>0.154930</td>\n      <td>0.014085</td>\n      <td>0.00</td>\n      <td>0.00</td>\n      <td>0.00</td>\n      <td>0.000000</td>\n      <td>0.00</td>\n      <td>0.014085</td>\n      <td>0.00</td>\n      <td>0.00</td>\n    </tr>\n    <tr>\n      <th>1</th>\n      <td>0.000000</td>\n      <td>0.00</td>\n      <td>0.026316</td>\n      <td>0.026316</td>\n      <td>0.000000</td>\n      <td>0.026316</td>\n      <td>0.105263</td>\n      <td>0.000000</td>\n      <td>0.00</td>\n      <td>0.000000</td>\n      <td>...</td>\n      <td>0.000000</td>\n      <td>0.026316</td>\n      <td>0.00</td>\n      <td>0.00</td>\n      <td>0.00</td>\n      <td>0.000000</td>\n      <td>0.00</td>\n      <td>0.026316</td>\n      <td>0.00</td>\n      <td>0.00</td>\n    </tr>\n    <tr>\n      <th>2</th>\n      <td>0.000000</td>\n      <td>0.00</td>\n      <td>0.000000</td>\n      <td>0.020000</td>\n      <td>0.000000</td>\n      <td>0.010000</td>\n      <td>0.020000</td>\n      <td>0.000000</td>\n      <td>0.00</td>\n      <td>0.030000</td>\n      <td>...</td>\n      <td>0.020000</td>\n      <td>0.010000</td>\n      <td>0.00</td>\n      <td>0.00</td>\n      <td>0.01</td>\n      <td>0.000000</td>\n      <td>0.01</td>\n      <td>0.000000</td>\n      <td>0.01</td>\n      <td>0.01</td>\n    </tr>\n    <tr>\n      <th>3</th>\n      <td>0.000000</td>\n      <td>0.01</td>\n      <td>0.010000</td>\n      <td>0.060000</td>\n      <td>0.000000</td>\n      <td>0.020000</td>\n      <td>0.010000</td>\n      <td>0.000000</td>\n      <td>0.01</td>\n      <td>0.000000</td>\n      <td>...</td>\n      <td>0.010000</td>\n      <td>0.010000</td>\n      <td>0.01</td>\n      <td>0.01</td>\n      <td>0.00</td>\n      <td>0.000000</td>\n      <td>0.00</td>\n      <td>0.000000</td>\n      <td>0.00</td>\n      <td>0.01</td>\n    </tr>\n    <tr>\n      <th>4</th>\n      <td>0.018182</td>\n      <td>0.00</td>\n      <td>0.000000</td>\n      <td>0.018182</td>\n      <td>0.000000</td>\n      <td>0.000000</td>\n      <td>0.036364</td>\n      <td>0.018182</td>\n      <td>0.00</td>\n      <td>0.000000</td>\n      <td>...</td>\n      <td>0.018182</td>\n      <td>0.000000</td>\n      <td>0.00</td>\n      <td>0.00</td>\n      <td>0.00</td>\n      <td>0.018182</td>\n      <td>0.00</td>\n      <td>0.000000</td>\n      <td>0.00</td>\n      <td>0.00</td>\n    </tr>\n  </tbody>\n</table>\n<p>5 rows \u00d7 103 columns</p>\n</div>",
                        "text/plain": "   Art Gallery  Art Museum  Asian Restaurant  Australian Restaurant  \\\n0     0.000000        0.00          0.014085               0.000000   \n1     0.000000        0.00          0.026316               0.026316   \n2     0.000000        0.00          0.000000               0.020000   \n3     0.000000        0.01          0.010000               0.060000   \n4     0.018182        0.00          0.000000               0.018182   \n\n   BBQ Joint    Bakery       Bar  Basketball Court  Bistro  Bookstore  ...  \\\n0   0.014085  0.014085  0.014085          0.000000    0.00   0.014085  ...   \n1   0.000000  0.026316  0.105263          0.000000    0.00   0.000000  ...   \n2   0.000000  0.010000  0.020000          0.000000    0.00   0.030000  ...   \n3   0.000000  0.020000  0.010000          0.000000    0.01   0.000000  ...   \n4   0.000000  0.000000  0.036364          0.018182    0.00   0.000000  ...   \n\n   Thai Restaurant   Theater  Tour Provider  Trail  Udon Restaurant  \\\n0         0.154930  0.014085           0.00   0.00             0.00   \n1         0.000000  0.026316           0.00   0.00             0.00   \n2         0.020000  0.010000           0.00   0.00             0.01   \n3         0.010000  0.010000           0.01   0.01             0.00   \n4         0.018182  0.000000           0.00   0.00             0.00   \n\n   Vegetarian / Vegan Restaurant  Video Game Store  Vietnamese Restaurant  \\\n0                       0.000000              0.00               0.014085   \n1                       0.000000              0.00               0.026316   \n2                       0.000000              0.01               0.000000   \n3                       0.000000              0.00               0.000000   \n4                       0.018182              0.00               0.000000   \n\n   Whisky Bar  Wine Bar  \n0        0.00      0.00  \n1        0.00      0.00  \n2        0.01      0.01  \n3        0.00      0.01  \n4        0.00      0.00  \n\n[5 rows x 103 columns]"
                    },
                    "execution_count": 135,
                    "metadata": {},
                    "output_type": "execute_result"
                }
            ],
            "source": "sydney_grouped_clustering"
        },
        {
            "cell_type": "code",
            "execution_count": 136,
            "metadata": {},
            "outputs": [],
            "source": "# add clustering labels\nvenues_sorted.insert(0, 'Cluster Labels', kmeans.labels_)"
        },
        {
            "cell_type": "code",
            "execution_count": 137,
            "metadata": {},
            "outputs": [],
            "source": "venues_sorted.columns.values[1]='NAME'"
        },
        {
            "cell_type": "markdown",
            "metadata": {},
            "source": "The clusters are shown in below:"
        },
        {
            "cell_type": "code",
            "execution_count": 138,
            "metadata": {},
            "outputs": [
                {
                    "data": {
                        "text/html": "<div>\n<style scoped>\n    .dataframe tbody tr th:only-of-type {\n        vertical-align: middle;\n    }\n\n    .dataframe tbody tr th {\n        vertical-align: top;\n    }\n\n    .dataframe thead th {\n        text-align: right;\n    }\n</style>\n<table border=\"1\" class=\"dataframe\">\n  <thead>\n    <tr style=\"text-align: right;\">\n      <th></th>\n      <th>NAME</th>\n      <th>Latitude</th>\n      <th>Longitude</th>\n      <th>Cluster Labels</th>\n      <th>1st Most Common Venue</th>\n      <th>2nd Most Common Venue</th>\n      <th>3rd Most Common Venue</th>\n      <th>4th Most Common Venue</th>\n      <th>5th Most Common Venue</th>\n      <th>6th Most Common Venue</th>\n      <th>7th Most Common Venue</th>\n      <th>8th Most Common Venue</th>\n      <th>9th Most Common Venue</th>\n      <th>10th Most Common Venue</th>\n    </tr>\n  </thead>\n  <tbody>\n    <tr>\n      <th>14</th>\n      <td>Haymarket</td>\n      <td>-33.880900</td>\n      <td>151.202900</td>\n      <td>0</td>\n      <td>Thai Restaurant</td>\n      <td>Chinese Restaurant</td>\n      <td>Coffee Shop</td>\n      <td>Caf\u00e9</td>\n      <td>Ice Cream Shop</td>\n      <td>Korean Restaurant</td>\n      <td>Hostel</td>\n      <td>Japanese Restaurant</td>\n      <td>Hotpot Restaurant</td>\n      <td>Hotel</td>\n    </tr>\n    <tr>\n      <th>19</th>\n      <td>Pyrmont</td>\n      <td>-33.869214</td>\n      <td>151.192363</td>\n      <td>1</td>\n      <td>Caf\u00e9</td>\n      <td>Bar</td>\n      <td>Fish Market</td>\n      <td>Seafood Restaurant</td>\n      <td>Pub</td>\n      <td>Restaurant</td>\n      <td>Japanese Restaurant</td>\n      <td>Hotel</td>\n      <td>Breakfast Spot</td>\n      <td>Park</td>\n    </tr>\n    <tr>\n      <th>24</th>\n      <td>Sydney</td>\n      <td>-33.873500</td>\n      <td>151.206900</td>\n      <td>2</td>\n      <td>Japanese Restaurant</td>\n      <td>Coffee Shop</td>\n      <td>Caf\u00e9</td>\n      <td>Hotel</td>\n      <td>Cocktail Bar</td>\n      <td>Shopping Mall</td>\n      <td>Korean Restaurant</td>\n      <td>Bubble Tea Shop</td>\n      <td>Bookstore</td>\n      <td>Malay Restaurant</td>\n    </tr>\n    <tr>\n      <th>25</th>\n      <td>The Rocks</td>\n      <td>-33.859992</td>\n      <td>151.208322</td>\n      <td>2</td>\n      <td>Caf\u00e9</td>\n      <td>Hotel</td>\n      <td>Australian Restaurant</td>\n      <td>Pub</td>\n      <td>Italian Restaurant</td>\n      <td>Cocktail Bar</td>\n      <td>Brewery</td>\n      <td>Hotel Bar</td>\n      <td>Park</td>\n      <td>Museum</td>\n    </tr>\n    <tr>\n      <th>26</th>\n      <td>Ultimo</td>\n      <td>-33.882200</td>\n      <td>151.197000</td>\n      <td>1</td>\n      <td>Caf\u00e9</td>\n      <td>Coffee Shop</td>\n      <td>Dumpling Restaurant</td>\n      <td>Hotel</td>\n      <td>Ice Cream Shop</td>\n      <td>Bar</td>\n      <td>Supermarket</td>\n      <td>Art Gallery</td>\n      <td>Pool</td>\n      <td>Gym / Fitness Center</td>\n    </tr>\n  </tbody>\n</table>\n</div>",
                        "text/plain": "         NAME   Latitude   Longitude  Cluster Labels 1st Most Common Venue  \\\n14  Haymarket -33.880900  151.202900               0       Thai Restaurant   \n19    Pyrmont -33.869214  151.192363               1                  Caf\u00e9   \n24     Sydney -33.873500  151.206900               2   Japanese Restaurant   \n25  The Rocks -33.859992  151.208322               2                  Caf\u00e9   \n26     Ultimo -33.882200  151.197000               1                  Caf\u00e9   \n\n   2nd Most Common Venue  3rd Most Common Venue 4th Most Common Venue  \\\n14    Chinese Restaurant            Coffee Shop                  Caf\u00e9   \n19                   Bar            Fish Market    Seafood Restaurant   \n24           Coffee Shop                   Caf\u00e9                 Hotel   \n25                 Hotel  Australian Restaurant                   Pub   \n26           Coffee Shop    Dumpling Restaurant                 Hotel   \n\n   5th Most Common Venue 6th Most Common Venue 7th Most Common Venue  \\\n14        Ice Cream Shop     Korean Restaurant                Hostel   \n19                   Pub            Restaurant   Japanese Restaurant   \n24          Cocktail Bar         Shopping Mall     Korean Restaurant   \n25    Italian Restaurant          Cocktail Bar               Brewery   \n26        Ice Cream Shop                   Bar           Supermarket   \n\n   8th Most Common Venue 9th Most Common Venue 10th Most Common Venue  \n14   Japanese Restaurant     Hotpot Restaurant                  Hotel  \n19                 Hotel        Breakfast Spot                   Park  \n24       Bubble Tea Shop             Bookstore       Malay Restaurant  \n25             Hotel Bar                  Park                 Museum  \n26           Art Gallery                  Pool   Gym / Fitness Center  "
                    },
                    "execution_count": 138,
                    "metadata": {},
                    "output_type": "execute_result"
                }
            ],
            "source": "sydney_merged = df2\n# merge toronto_grouped with toronto_data to add latitude/longitude for each neighborhood\nsydney_merged = sydney_merged.join(venues_sorted.set_index('NAME'), on='NAME')\n\nsydney_merged.head() # check the last columns!"
        },
        {
            "cell_type": "markdown",
            "metadata": {},
            "source": "A visualisation of the clusters:"
        },
        {
            "cell_type": "code",
            "execution_count": 139,
            "metadata": {},
            "outputs": [
                {
                    "data": {
                        "text/html": "<div style=\"width:100%;\"><div style=\"position:relative;width:100%;height:0;padding-bottom:60%;\"><iframe src=\"data:text/html;charset=utf-8;base64,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\" style=\"position:absolute;width:100%;height:100%;left:0;top:0;border:none !important;\" allowfullscreen webkitallowfullscreen mozallowfullscreen></iframe></div></div>",
                        "text/plain": "<folium.folium.Map at 0x7fdf6b77e908>"
                    },
                    "execution_count": 139,
                    "metadata": {},
                    "output_type": "execute_result"
                }
            ],
            "source": "# create map\nmap_clusters = folium.Map(location=[latitude, longitude], zoom_start=13)\n\n# set color scheme for the clusters\nx = np.arange(kclusters)\nys = [i + x + (i*x)**2 for i in range(kclusters)]\ncolors_array = cm.rainbow(np.linspace(0, 1, len(ys)))\nrainbow = [colors.rgb2hex(i) for i in colors_array]\n\n# add markers to the map\nmarkers_colors = []\nfor lat, lon, poi, cluster in zip(sydney_merged['Latitude'], sydney_merged['Longitude'], sydney_merged['NAME'], sydney_merged['Cluster Labels']):\n    label = folium.Popup(str(poi) + ' Cluster ' + str(cluster), parse_html=True)\n    folium.CircleMarker(\n        [lat, lon],\n        radius=5,\n        popup=label,\n        color=rainbow[cluster-1],\n        fill=True,\n        fill_color=rainbow[cluster-1],\n        fill_opacity=0.7).add_to(map_clusters)\n       \nmap_clusters"
        },
        {
            "cell_type": "markdown",
            "metadata": {},
            "source": "This is the final result to use to make decision"
        },
        {
            "cell_type": "code",
            "execution_count": 140,
            "metadata": {},
            "outputs": [
                {
                    "data": {
                        "text/html": "<div>\n<style scoped>\n    .dataframe tbody tr th:only-of-type {\n        vertical-align: middle;\n    }\n\n    .dataframe tbody tr th {\n        vertical-align: top;\n    }\n\n    .dataframe thead th {\n        text-align: right;\n    }\n</style>\n<table border=\"1\" class=\"dataframe\">\n  <thead>\n    <tr style=\"text-align: right;\">\n      <th></th>\n      <th>NAME</th>\n      <th>Latitude</th>\n      <th>Longitude</th>\n      <th>Cluster Labels</th>\n      <th>1st Most Common Venue</th>\n      <th>2nd Most Common Venue</th>\n      <th>3rd Most Common Venue</th>\n      <th>4th Most Common Venue</th>\n      <th>5th Most Common Venue</th>\n      <th>6th Most Common Venue</th>\n      <th>7th Most Common Venue</th>\n      <th>8th Most Common Venue</th>\n      <th>9th Most Common Venue</th>\n      <th>10th Most Common Venue</th>\n    </tr>\n  </thead>\n  <tbody>\n    <tr>\n      <th>14</th>\n      <td>Haymarket</td>\n      <td>-33.880900</td>\n      <td>151.202900</td>\n      <td>0</td>\n      <td>Thai Restaurant</td>\n      <td>Chinese Restaurant</td>\n      <td>Coffee Shop</td>\n      <td>Caf\u00e9</td>\n      <td>Ice Cream Shop</td>\n      <td>Korean Restaurant</td>\n      <td>Hostel</td>\n      <td>Japanese Restaurant</td>\n      <td>Hotpot Restaurant</td>\n      <td>Hotel</td>\n    </tr>\n    <tr>\n      <th>19</th>\n      <td>Pyrmont</td>\n      <td>-33.869214</td>\n      <td>151.192363</td>\n      <td>1</td>\n      <td>Caf\u00e9</td>\n      <td>Bar</td>\n      <td>Fish Market</td>\n      <td>Seafood Restaurant</td>\n      <td>Pub</td>\n      <td>Restaurant</td>\n      <td>Japanese Restaurant</td>\n      <td>Hotel</td>\n      <td>Breakfast Spot</td>\n      <td>Park</td>\n    </tr>\n    <tr>\n      <th>24</th>\n      <td>Sydney</td>\n      <td>-33.873500</td>\n      <td>151.206900</td>\n      <td>2</td>\n      <td>Japanese Restaurant</td>\n      <td>Coffee Shop</td>\n      <td>Caf\u00e9</td>\n      <td>Hotel</td>\n      <td>Cocktail Bar</td>\n      <td>Shopping Mall</td>\n      <td>Korean Restaurant</td>\n      <td>Bubble Tea Shop</td>\n      <td>Bookstore</td>\n      <td>Malay Restaurant</td>\n    </tr>\n    <tr>\n      <th>25</th>\n      <td>The Rocks</td>\n      <td>-33.859992</td>\n      <td>151.208322</td>\n      <td>2</td>\n      <td>Caf\u00e9</td>\n      <td>Hotel</td>\n      <td>Australian Restaurant</td>\n      <td>Pub</td>\n      <td>Italian Restaurant</td>\n      <td>Cocktail Bar</td>\n      <td>Brewery</td>\n      <td>Hotel Bar</td>\n      <td>Park</td>\n      <td>Museum</td>\n    </tr>\n    <tr>\n      <th>26</th>\n      <td>Ultimo</td>\n      <td>-33.882200</td>\n      <td>151.197000</td>\n      <td>1</td>\n      <td>Caf\u00e9</td>\n      <td>Coffee Shop</td>\n      <td>Dumpling Restaurant</td>\n      <td>Hotel</td>\n      <td>Ice Cream Shop</td>\n      <td>Bar</td>\n      <td>Supermarket</td>\n      <td>Art Gallery</td>\n      <td>Pool</td>\n      <td>Gym / Fitness Center</td>\n    </tr>\n  </tbody>\n</table>\n</div>",
                        "text/plain": "         NAME   Latitude   Longitude  Cluster Labels 1st Most Common Venue  \\\n14  Haymarket -33.880900  151.202900               0       Thai Restaurant   \n19    Pyrmont -33.869214  151.192363               1                  Caf\u00e9   \n24     Sydney -33.873500  151.206900               2   Japanese Restaurant   \n25  The Rocks -33.859992  151.208322               2                  Caf\u00e9   \n26     Ultimo -33.882200  151.197000               1                  Caf\u00e9   \n\n   2nd Most Common Venue  3rd Most Common Venue 4th Most Common Venue  \\\n14    Chinese Restaurant            Coffee Shop                  Caf\u00e9   \n19                   Bar            Fish Market    Seafood Restaurant   \n24           Coffee Shop                   Caf\u00e9                 Hotel   \n25                 Hotel  Australian Restaurant                   Pub   \n26           Coffee Shop    Dumpling Restaurant                 Hotel   \n\n   5th Most Common Venue 6th Most Common Venue 7th Most Common Venue  \\\n14        Ice Cream Shop     Korean Restaurant                Hostel   \n19                   Pub            Restaurant   Japanese Restaurant   \n24          Cocktail Bar         Shopping Mall     Korean Restaurant   \n25    Italian Restaurant          Cocktail Bar               Brewery   \n26        Ice Cream Shop                   Bar           Supermarket   \n\n   8th Most Common Venue 9th Most Common Venue 10th Most Common Venue  \n14   Japanese Restaurant     Hotpot Restaurant                  Hotel  \n19                 Hotel        Breakfast Spot                   Park  \n24       Bubble Tea Shop             Bookstore       Malay Restaurant  \n25             Hotel Bar                  Park                 Museum  \n26           Art Gallery                  Pool   Gym / Fitness Center  "
                    },
                    "execution_count": 140,
                    "metadata": {},
                    "output_type": "execute_result"
                }
            ],
            "source": "sydney_merged.head()"
        },
        {
            "cell_type": "markdown",
            "metadata": {},
            "source": "From the grouping above, The Rocks is the best place to open a restaurant because:\n* It is similar to Sydney in term of amenties\n* The most frequently visited places are cafe and hotel, which leaves an opportunity to open a restaurant\n\nThe next question is which type of restaurant we should open in The Rocks\n\n### 3.4 Analysing restaurant types"
        },
        {
            "cell_type": "code",
            "execution_count": 141,
            "metadata": {},
            "outputs": [
                {
                    "name": "stdout",
                    "output_type": "stream",
                    "text": "Shape of the dataframe including restaurants in Sydney (111, 7)\n"
                },
                {
                    "data": {
                        "text/html": "<div>\n<style scoped>\n    .dataframe tbody tr th:only-of-type {\n        vertical-align: middle;\n    }\n\n    .dataframe tbody tr th {\n        vertical-align: top;\n    }\n\n    .dataframe thead th {\n        text-align: right;\n    }\n</style>\n<table border=\"1\" class=\"dataframe\">\n  <thead>\n    <tr style=\"text-align: right;\">\n      <th></th>\n      <th>Suburb</th>\n      <th>Suburb Latitude</th>\n      <th>Suburb Longitude</th>\n      <th>Venue</th>\n      <th>Venue Latitude</th>\n      <th>Venue Longitude</th>\n      <th>Venue Category</th>\n    </tr>\n  </thead>\n  <tbody>\n    <tr>\n      <th>0</th>\n      <td>Haymarket</td>\n      <td>-33.8809</td>\n      <td>151.2029</td>\n      <td>Do Dee Paidang</td>\n      <td>-33.880670</td>\n      <td>151.203018</td>\n      <td>Thai Restaurant</td>\n    </tr>\n    <tr>\n      <th>1</th>\n      <td>Haymarket</td>\n      <td>-33.8809</td>\n      <td>151.2029</td>\n      <td>Satang Thai | \u0e2a\u0e15\u0e32\u0e07\u0e04\u0e4c (Satang Thai)</td>\n      <td>-33.882317</td>\n      <td>151.203684</td>\n      <td>Thai Restaurant</td>\n    </tr>\n    <tr>\n      <th>2</th>\n      <td>Haymarket</td>\n      <td>-33.8809</td>\n      <td>151.2029</td>\n      <td>Ho Jiak</td>\n      <td>-33.879303</td>\n      <td>151.203520</td>\n      <td>Malay Restaurant</td>\n    </tr>\n    <tr>\n      <th>3</th>\n      <td>Haymarket</td>\n      <td>-33.8809</td>\n      <td>151.2029</td>\n      <td>Kura Japanese Dining</td>\n      <td>-33.880216</td>\n      <td>151.204244</td>\n      <td>Japanese Restaurant</td>\n    </tr>\n    <tr>\n      <th>4</th>\n      <td>Haymarket</td>\n      <td>-33.8809</td>\n      <td>151.2029</td>\n      <td>Kogi</td>\n      <td>-33.879500</td>\n      <td>151.203060</td>\n      <td>Korean Restaurant</td>\n    </tr>\n  </tbody>\n</table>\n</div>",
                        "text/plain": "      Suburb  Suburb Latitude  Suburb Longitude  \\\n0  Haymarket         -33.8809          151.2029   \n1  Haymarket         -33.8809          151.2029   \n2  Haymarket         -33.8809          151.2029   \n3  Haymarket         -33.8809          151.2029   \n4  Haymarket         -33.8809          151.2029   \n\n                                Venue  Venue Latitude  Venue Longitude  \\\n0                      Do Dee Paidang      -33.880670       151.203018   \n1  Satang Thai | \u0e2a\u0e15\u0e32\u0e07\u0e04\u0e4c (Satang Thai)      -33.882317       151.203684   \n2                             Ho Jiak      -33.879303       151.203520   \n3                Kura Japanese Dining      -33.880216       151.204244   \n4                                Kogi      -33.879500       151.203060   \n\n        Venue Category  \n0      Thai Restaurant  \n1      Thai Restaurant  \n2     Malay Restaurant  \n3  Japanese Restaurant  \n4    Korean Restaurant  "
                    },
                    "execution_count": 141,
                    "metadata": {},
                    "output_type": "execute_result"
                }
            ],
            "source": "sydney_restaurant = sydney_venues[sydney_venues['Venue Category'].str.contains('Restaurant')].reset_index(drop=True)\nprint(\"Shape of the dataframe including restaurants in Sydney\", sydney_restaurant.shape)\nsydney_restaurant.head()"
        },
        {
            "cell_type": "code",
            "execution_count": 147,
            "metadata": {
                "scrolled": false
            },
            "outputs": [
                {
                    "name": "stdout",
                    "output_type": "stream",
                    "text": "Suburb                         Haymarket  Pyrmont  Sydney  The Rocks  Ultimo\nVenue Category                                                              \nAsian Restaurant                       1        1       0          1       0\nAustralian Restaurant                  0        1       2          6       1\nBrazilian Restaurant                   0        0       0          0       1\nChinese Restaurant                     7        0       1          2       0\nDumpling Restaurant                    1        1       1          0       2\nFrench Restaurant                      0        1       0          0       1\nGerman Restaurant                      0        0       0          1       0\nHotpot Restaurant                      2        0       0          0       0\nIndian Restaurant                      0        0       1          1       0\nIndonesian Restaurant                  1        0       0          0       0\nItalian Restaurant                     1        0       0          4       1\nJapanese Restaurant                    3        2       9          2       0\nKebab Restaurant                       0        0       0          0       1\nKorean Restaurant                      3        0       3          0       0\nMalay Restaurant                       2        1       3          0       1\nMexican Restaurant                     0        0       0          2       0\nMiddle Eastern Restaurant              0        0       0          1       0\nModern European Restaurant             0        0       0          1       0\nRamen Restaurant                       1        0       2          0       1\nRestaurant                             0        2       1          1       0\nSeafood Restaurant                     0        3       0          1       0\nShaanxi Restaurant                     1        0       0          0       0\nSushi Restaurant                       1        0       0          0       0\nSzechuan Restaurant                    1        0       0          0       0\nThai Restaurant                       11        0       2          1       1\nUdon Restaurant                        0        0       1          0       0\nVegetarian / Vegan Restaurant          0        0       0          0       1\nVietnamese Restaurant                  1        1       0          0       0\nTotal                                 37       13      26         24      11\n"
                }
            ],
            "source": "sydney_restaurant_sort=pd.crosstab(sydney_restaurant['Suburb'], sydney_restaurant['Venue Category'])\nsydney_restaurant_sort['Total'] = sydney_restaurant_sort.sum(axis=1)\ndf_t = sydney_restaurant_sort.T\nprint(df_t)"
        },
        {
            "cell_type": "markdown",
            "metadata": {},
            "source": "A quick look at the types of restaurants in The Rocks, we can find that the suburb is dominant by \"Autralian restaurants\".There are only 2 Japanese restaurants, compared to 9 in Sydney. Therefore, we recommend opening a Japanese restaurant in The Rocks to fill the gap and also to take advantage of a large number of tourists staying in this suburb. "
        },
        {
            "cell_type": "markdown",
            "metadata": {},
            "source": "## Results and Discussion\n\nWe first examine the five suburbs in question according to the amenties. They are clustered in three groups: \n* The Rocks and Sydney\n* Pyrmont and Ultimo\n* Haymarket\n\nThe Rocks and Sydney suburbs are host to the world-famous Opera House and also busy business areas. These two suburbs are similar and therefore clustered together. However, The Rocks is chosen by tourists- favouring hotels and cafes, where Sydney suburb is preferred by Japanese restaurant lovers.\n\nPyrmont and Ultimo are popular residental areas for young people, therefore it is understandable that these two areas are grouped together with cafe being the most visited venue. The data confirms the point that these two areas are not great to open restaurants.\n\nHaymarket, where Chinatown is located, is famous for Asian dining, thus, not a good area to open the restaurant business.\n\nOur first conclusion is that The Rocks is the best area to open a restaurant.\n\nSecondly, we take a further look at types of restaurants in The Rocks. We  find that the suburb is dominant by \"Autralian restaurants\".There are only 2 Japanese restaurants, compared to 9 in Sydney. Therefore, we recommend opening a Japanese restaurant in The Rocks to fill the gap and also to take advantage of a large number of tourists staying in this suburb. "
        },
        {
            "cell_type": "markdown",
            "metadata": {},
            "source": "## Conclusion\n\nTo sum up, Sydney has the privilege of being in the world's top ten cities for standard of living. The city has a reputation for the variety of restaurants with dishes from all over the world. Therefore it is a good idea to start investing in a restaurant business in the city. The business problem we try to answer is which suburb and which type of restaurant to invest in.\n\nTo solve this business problem, we clustered Sydney suburbs based on venues to identify the most profitable businesses in the area using Foursquare API. The results in fact aligns with waht I expect after staying 4 years in Sydney. After finding the optimal suburb for restaurant business - The Rocks, we then do a further investigation on the restaurant type. The final conclusion is that  we should open a Japanese restaurant in The Rocks. \n\nHope you have enjoyed the analysis and get a small glimpse of how Sydney suburbs are."
        }
    ],
    "metadata": {
        "kernelspec": {
            "display_name": "Python 3.6",
            "language": "python",
            "name": "python3"
        },
        "language_info": {
            "codemirror_mode": {
                "name": "ipython",
                "version": 3
            },
            "file_extension": ".py",
            "mimetype": "text/x-python",
            "name": "python",
            "nbconvert_exporter": "python",
            "pygments_lexer": "ipython3",
            "version": "3.6.9"
        }
    },
    "nbformat": 4,
    "nbformat_minor": 1
}