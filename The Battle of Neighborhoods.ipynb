{
    "cells": [
        {
            "cell_type": "markdown",
            "metadata": {
                "collapsed": true
            },
            "source": "# Capstone Project - The Battle of Neighborhoods\n\n## Business Problem section\n\n### Background\n\nI live in Sydney, where the average house price is currently rebouncing after a severe decline of 20% on average. It is therefore a good time for many young couples to start investing in the property market.\n\n### Business Problem\nCurrently, the median apartment price is $690,000. The question raised is \"Among the affordable suburbs with median price less than $690,000, which one is the best for investment?\" We define \"the best\" as \"having many amenities and essential surrounding facilities such as elementary schools, high schools, hospitals & grocery stores\"\n\n## Data section\n\n"
        }
    ],
    "metadata": {
        "kernelspec": {
            "display_name": "Python 3.6",
            "language": "python",
            "name": "python3"
        },
        "language_info": {
            "codemirror_mode": {
                "name": "ipython",
                "version": 3
            },
            "file_extension": ".py",
            "mimetype": "text/x-python",
            "name": "python",
            "nbconvert_exporter": "python",
            "pygments_lexer": "ipython3",
            "version": "3.6.9"
        }
    },
    "nbformat": 4,
    "nbformat_minor": 1
}