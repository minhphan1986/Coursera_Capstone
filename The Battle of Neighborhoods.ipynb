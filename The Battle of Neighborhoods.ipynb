{
    "cells": [
        {
            "cell_type": "markdown",
            "metadata": {
                "collapsed": true
            },
            "source": "# Capstone Project - The Battle of Neighborhoods\n\n## Business Problem section\n\n### Background\n\nI live in Sydney, a place being in the world\u2019s top-10 best cities for quality of living. Among the ranking elements is the dining culture. Indeed, Sydney is famous for its high-quality restaurants and is the place where you can find all of the world's famous dishes.\n\n### Business Problem\nOne of my friends wanted to join the competition by investing in a restaurant business in inner Sydney (i.e. the City of Sydney). He asked me which suburb and which type of restaurants are the best to invest in. To answer the question, we can cluster the suburbs in inner Sydney with similar restaurant types. The target suburb should be the one in the cluster with the least number of restaurants.\n\nThe inner Sydney consists of 29 suburbs but our focus is on 5 most crowded suburbs - Sydney, The Rocks, Haymarket, Ultimo and Pyrmont."
        },
        {
            "cell_type": "markdown",
            "metadata": {},
            "source": "## Data section\n\n"
        },
        {
            "cell_type": "code",
            "execution_count": 1,
            "metadata": {},
            "outputs": [
                {
                    "name": "stdout",
                    "output_type": "stream",
                    "text": "Solving environment: done\n\n## Package Plan ##\n\n  environment location: /opt/conda/envs/Python36\n\n  added / updated specs: \n    - geopy\n\n\nThe following packages will be downloaded:\n\n    package                    |            build\n    ---------------------------|-----------------\n    geographiclib-1.50         |             py_0          34 KB  conda-forge\n    ca-certificates-2019.11.28 |       hecc5488_0         145 KB  conda-forge\n    openssl-1.1.1d             |       h516909a_0         2.1 MB  conda-forge\n    certifi-2019.11.28         |           py36_0         149 KB  conda-forge\n    geopy-1.20.0               |             py_0          57 KB  conda-forge\n    ------------------------------------------------------------\n                                           Total:         2.5 MB\n\nThe following NEW packages will be INSTALLED:\n\n    geographiclib:   1.50-py_0         conda-forge\n    geopy:           1.20.0-py_0       conda-forge\n\nThe following packages will be UPDATED:\n\n    ca-certificates: 2019.11.27-0                  --> 2019.11.28-hecc5488_0 conda-forge\n    certifi:         2019.11.28-py36_0             --> 2019.11.28-py36_0     conda-forge\n\nThe following packages will be DOWNGRADED:\n\n    openssl:         1.1.1d-h7b6447c_3             --> 1.1.1d-h516909a_0     conda-forge\n\n\nDownloading and Extracting Packages\ngeographiclib-1.50   | 34 KB     | ##################################### | 100% \nca-certificates-2019 | 145 KB    | ##################################### | 100% \nopenssl-1.1.1d       | 2.1 MB    | ##################################### | 100% \ncertifi-2019.11.28   | 149 KB    | ##################################### | 100% \ngeopy-1.20.0         | 57 KB     | ##################################### | 100% \nPreparing transaction: done\nVerifying transaction: done\nExecuting transaction: done\nSolving environment: done\n\n## Package Plan ##\n\n  environment location: /opt/conda/envs/Python36\n\n  added / updated specs: \n    - folium=0.5.0\n\n\nThe following packages will be downloaded:\n\n    package                    |            build\n    ---------------------------|-----------------\n    altair-4.0.1               |             py_0         575 KB  conda-forge\n    branca-0.3.1               |             py_0          25 KB  conda-forge\n    folium-0.5.0               |             py_0          45 KB  conda-forge\n    vincent-0.4.4              |             py_1          28 KB  conda-forge\n    ------------------------------------------------------------\n                                           Total:         673 KB\n\nThe following NEW packages will be INSTALLED:\n\n    altair:  4.0.1-py_0 conda-forge\n    branca:  0.3.1-py_0 conda-forge\n    folium:  0.5.0-py_0 conda-forge\n    vincent: 0.4.4-py_1 conda-forge\n\n\nDownloading and Extracting Packages\naltair-4.0.1         | 575 KB    | ##################################### | 100% \nbranca-0.3.1         | 25 KB     | ##################################### | 100% \nfolium-0.5.0         | 45 KB     | ##################################### | 100% \nvincent-0.4.4        | 28 KB     | ##################################### | 100% \nPreparing transaction: done\nVerifying transaction: done\nExecuting transaction: done\nLibraries imported.\n"
                }
            ],
            "source": "import numpy as np\nimport pandas as pd\nimport datetime as dt # Datetime\nimport json # library to handle JSON files\n\n!conda install -c conda-forge geopy --yes\nfrom geopy.geocoders import Nominatim # convert an address into latitude and longitude values\n\nimport requests # library to handle requests\nfrom pandas.io.json import json_normalize # tranform JSON file into a pandas dataframe\n\n# Matplotlib and associated plotting modules\nimport matplotlib.cm as cm\nimport matplotlib.colors as colors\n\n!conda install -c conda-forge folium=0.5.0 --yes\nimport folium #import folium # map rendering library\n\nprint('Libraries imported.')"
        },
        {
            "cell_type": "code",
            "execution_count": 42,
            "metadata": {},
            "outputs": [
                {
                    "data": {
                        "text/html": "<div>\n<style scoped>\n    .dataframe tbody tr th:only-of-type {\n        vertical-align: middle;\n    }\n\n    .dataframe tbody tr th {\n        vertical-align: top;\n    }\n\n    .dataframe thead th {\n        text-align: right;\n    }\n</style>\n<table border=\"1\" class=\"dataframe\">\n  <thead>\n    <tr style=\"text-align: right;\">\n      <th></th>\n      <th>FID</th>\n      <th>NAME</th>\n      <th>F2005_06</th>\n      <th>F2006_07</th>\n      <th>F2007_08</th>\n      <th>F2008_09</th>\n      <th>F2009_10</th>\n      <th>F2010_11</th>\n      <th>F2011_12</th>\n      <th>F2012_13</th>\n      <th>F2013_14</th>\n      <th>F2014_15</th>\n      <th>Shape_Leng</th>\n      <th>Shape_Area</th>\n    </tr>\n  </thead>\n  <tbody>\n    <tr>\n      <th>0</th>\n      <td>1</td>\n      <td>Alexandria</td>\n      <td>179751048</td>\n      <td>179751048</td>\n      <td>1.803951e+08</td>\n      <td>1.644154e+08</td>\n      <td>1.542570e+08</td>\n      <td>1.623722e+08</td>\n      <td>1.631690e+08</td>\n      <td>155096161</td>\n      <td>1.455096e+08</td>\n      <td>147534614</td>\n      <td>10168.649178</td>\n      <td>3.523771e+06</td>\n    </tr>\n    <tr>\n      <th>1</th>\n      <td>2</td>\n      <td>Forest Lodge + Annandale</td>\n      <td>16720193</td>\n      <td>16720193</td>\n      <td>1.633630e+07</td>\n      <td>1.553792e+07</td>\n      <td>1.560317e+07</td>\n      <td>1.576891e+07</td>\n      <td>1.578564e+07</td>\n      <td>18743393</td>\n      <td>2.018737e+07</td>\n      <td>20761284</td>\n      <td>8654.226944</td>\n      <td>5.457704e+05</td>\n    </tr>\n    <tr>\n      <th>2</th>\n      <td>3</td>\n      <td>Millers Point + Barangaroo</td>\n      <td>39666586</td>\n      <td>39666586</td>\n      <td>4.135160e+07</td>\n      <td>4.160144e+07</td>\n      <td>4.184332e+07</td>\n      <td>4.059574e+07</td>\n      <td>3.791561e+07</td>\n      <td>34786136</td>\n      <td>3.014288e+07</td>\n      <td>37728668</td>\n      <td>3944.508809</td>\n      <td>4.634789e+05</td>\n    </tr>\n    <tr>\n      <th>3</th>\n      <td>4</td>\n      <td>Beaconsfield</td>\n      <td>8454492</td>\n      <td>8454492</td>\n      <td>1.012794e+07</td>\n      <td>1.192396e+07</td>\n      <td>1.233912e+07</td>\n      <td>1.284815e+07</td>\n      <td>1.251785e+07</td>\n      <td>9622120</td>\n      <td>5.212607e+06</td>\n      <td>5090894</td>\n      <td>1916.726468</td>\n      <td>1.674720e+05</td>\n    </tr>\n    <tr>\n      <th>4</th>\n      <td>5</td>\n      <td>Camperdown</td>\n      <td>116493273</td>\n      <td>116493273</td>\n      <td>1.195033e+08</td>\n      <td>1.225078e+08</td>\n      <td>1.260258e+08</td>\n      <td>1.267071e+08</td>\n      <td>1.245014e+08</td>\n      <td>129747022</td>\n      <td>1.334789e+08</td>\n      <td>139736392</td>\n      <td>7055.860737</td>\n      <td>1.072898e+06</td>\n    </tr>\n  </tbody>\n</table>\n</div>",
                        "text/plain": "   FID                        NAME   F2005_06   F2006_07      F2007_08  \\\n0    1                  Alexandria  179751048  179751048  1.803951e+08   \n1    2    Forest Lodge + Annandale   16720193   16720193  1.633630e+07   \n2    3  Millers Point + Barangaroo   39666586   39666586  4.135160e+07   \n3    4                Beaconsfield    8454492    8454492  1.012794e+07   \n4    5                  Camperdown  116493273  116493273  1.195033e+08   \n\n       F2008_09      F2009_10      F2010_11      F2011_12   F2012_13  \\\n0  1.644154e+08  1.542570e+08  1.623722e+08  1.631690e+08  155096161   \n1  1.553792e+07  1.560317e+07  1.576891e+07  1.578564e+07   18743393   \n2  4.160144e+07  4.184332e+07  4.059574e+07  3.791561e+07   34786136   \n3  1.192396e+07  1.233912e+07  1.284815e+07  1.251785e+07    9622120   \n4  1.225078e+08  1.260258e+08  1.267071e+08  1.245014e+08  129747022   \n\n       F2013_14   F2014_15    Shape_Leng    Shape_Area  \n0  1.455096e+08  147534614  10168.649178  3.523771e+06  \n1  2.018737e+07   20761284   8654.226944  5.457704e+05  \n2  3.014288e+07   37728668   3944.508809  4.634789e+05  \n3  5.212607e+06    5090894   1916.726468  1.674720e+05  \n4  1.334789e+08  139736392   7055.860737  1.072898e+06  "
                    },
                    "execution_count": 42,
                    "metadata": {},
                    "output_type": "execute_result"
                }
            ],
            "source": "# read suburb list from \ndf = pd.read_csv('https://opendata.arcgis.com/datasets/2a2b04faf74446309f7b22fd1d6651a2_0.csv')\ndf.head()"
        },
        {
            "cell_type": "code",
            "execution_count": 43,
            "metadata": {},
            "outputs": [
                {
                    "data": {
                        "text/html": "<div>\n<style scoped>\n    .dataframe tbody tr th:only-of-type {\n        vertical-align: middle;\n    }\n\n    .dataframe tbody tr th {\n        vertical-align: top;\n    }\n\n    .dataframe thead th {\n        text-align: right;\n    }\n</style>\n<table border=\"1\" class=\"dataframe\">\n  <thead>\n    <tr style=\"text-align: right;\">\n      <th></th>\n      <th>NAME</th>\n    </tr>\n  </thead>\n  <tbody>\n    <tr>\n      <th>0</th>\n      <td>Alexandria</td>\n    </tr>\n    <tr>\n      <th>1</th>\n      <td>Forest Lodge + Annandale</td>\n    </tr>\n    <tr>\n      <th>2</th>\n      <td>Millers Point + Barangaroo</td>\n    </tr>\n    <tr>\n      <th>3</th>\n      <td>Beaconsfield</td>\n    </tr>\n    <tr>\n      <th>4</th>\n      <td>Camperdown</td>\n    </tr>\n  </tbody>\n</table>\n</div>",
                        "text/plain": "                         NAME\n0                  Alexandria\n1    Forest Lodge + Annandale\n2  Millers Point + Barangaroo\n3                Beaconsfield\n4                  Camperdown"
                    },
                    "execution_count": 43,
                    "metadata": {},
                    "output_type": "execute_result"
                }
            ],
            "source": "df.drop(df.columns.difference(['NAME']), 1, inplace=True)\ndf.head()"
        },
        {
            "cell_type": "code",
            "execution_count": 44,
            "metadata": {},
            "outputs": [],
            "source": "keep_list=['Sydney', 'The Rocks', 'Haymarket', 'Pyrmont', 'Ultimo']\ndf2=df[df['NAME'].isin(keep_list)]"
        },
        {
            "cell_type": "code",
            "execution_count": 45,
            "metadata": {},
            "outputs": [
                {
                    "data": {
                        "text/html": "<div>\n<style scoped>\n    .dataframe tbody tr th:only-of-type {\n        vertical-align: middle;\n    }\n\n    .dataframe tbody tr th {\n        vertical-align: top;\n    }\n\n    .dataframe thead th {\n        text-align: right;\n    }\n</style>\n<table border=\"1\" class=\"dataframe\">\n  <thead>\n    <tr style=\"text-align: right;\">\n      <th></th>\n      <th>NAME</th>\n    </tr>\n  </thead>\n  <tbody>\n    <tr>\n      <th>14</th>\n      <td>Haymarket</td>\n    </tr>\n    <tr>\n      <th>19</th>\n      <td>Pyrmont</td>\n    </tr>\n    <tr>\n      <th>24</th>\n      <td>Sydney</td>\n    </tr>\n    <tr>\n      <th>25</th>\n      <td>The Rocks</td>\n    </tr>\n    <tr>\n      <th>26</th>\n      <td>Ultimo</td>\n    </tr>\n  </tbody>\n</table>\n</div>",
                        "text/plain": "         NAME\n14  Haymarket\n19    Pyrmont\n24     Sydney\n25  The Rocks\n26     Ultimo"
                    },
                    "execution_count": 45,
                    "metadata": {},
                    "output_type": "execute_result"
                }
            ],
            "source": "df2"
        },
        {
            "cell_type": "code",
            "execution_count": 50,
            "metadata": {},
            "outputs": [
                {
                    "name": "stderr",
                    "output_type": "stream",
                    "text": "/opt/conda/envs/Python36/lib/python3.6/site-packages/ipykernel/__main__.py:2: SettingWithCopyWarning: \nA value is trying to be set on a copy of a slice from a DataFrame.\nTry using .loc[row_indexer,col_indexer] = value instead\n\nSee the caveats in the documentation: http://pandas.pydata.org/pandas-docs/stable/indexing.html#indexing-view-versus-copy\n  from ipykernel import kernelapp as app\n"
                }
            ],
            "source": "geolocator = Nominatim(user_agent=\"Sydney_explorer\")\ndf2['City_coord'] = df2['NAME'].apply(geolocator.geocode).apply(lambda x: (x.latitude, x.longitude))"
        },
        {
            "cell_type": "code",
            "execution_count": 52,
            "metadata": {},
            "outputs": [
                {
                    "name": "stderr",
                    "output_type": "stream",
                    "text": "/opt/conda/envs/Python36/lib/python3.6/site-packages/pandas/core/frame.py:3391: SettingWithCopyWarning: \nA value is trying to be set on a copy of a slice from a DataFrame.\nTry using .loc[row_indexer,col_indexer] = value instead\n\nSee the caveats in the documentation: http://pandas.pydata.org/pandas-docs/stable/indexing.html#indexing-view-versus-copy\n  self[k1] = value[k2]\n"
                }
            ],
            "source": "df2[['Latitude', 'Longitude']] = df2['City_coord'].apply(pd.Series)"
        },
        {
            "cell_type": "code",
            "execution_count": 55,
            "metadata": {},
            "outputs": [],
            "source": "df2 = df2.drop(columns=['City_coord'])"
        },
        {
            "cell_type": "code",
            "execution_count": 56,
            "metadata": {
                "scrolled": true
            },
            "outputs": [
                {
                    "data": {
                        "text/html": "<div>\n<style scoped>\n    .dataframe tbody tr th:only-of-type {\n        vertical-align: middle;\n    }\n\n    .dataframe tbody tr th {\n        vertical-align: top;\n    }\n\n    .dataframe thead th {\n        text-align: right;\n    }\n</style>\n<table border=\"1\" class=\"dataframe\">\n  <thead>\n    <tr style=\"text-align: right;\">\n      <th></th>\n      <th>NAME</th>\n      <th>Latitude</th>\n      <th>Longitude</th>\n    </tr>\n  </thead>\n  <tbody>\n    <tr>\n      <th>14</th>\n      <td>Haymarket</td>\n      <td>38.812140</td>\n      <td>-77.636804</td>\n    </tr>\n    <tr>\n      <th>19</th>\n      <td>Pyrmont</td>\n      <td>-33.869214</td>\n      <td>151.192363</td>\n    </tr>\n    <tr>\n      <th>24</th>\n      <td>Sydney</td>\n      <td>-33.854816</td>\n      <td>151.216454</td>\n    </tr>\n    <tr>\n      <th>25</th>\n      <td>The Rocks</td>\n      <td>-33.859992</td>\n      <td>151.208322</td>\n    </tr>\n    <tr>\n      <th>26</th>\n      <td>Ultimo</td>\n      <td>46.511994</td>\n      <td>10.899493</td>\n    </tr>\n  </tbody>\n</table>\n</div>",
                        "text/plain": "         NAME   Latitude   Longitude\n14  Haymarket  38.812140  -77.636804\n19    Pyrmont -33.869214  151.192363\n24     Sydney -33.854816  151.216454\n25  The Rocks -33.859992  151.208322\n26     Ultimo  46.511994   10.899493"
                    },
                    "execution_count": 56,
                    "metadata": {},
                    "output_type": "execute_result"
                }
            ],
            "source": "df2"
        },
        {
            "cell_type": "markdown",
            "metadata": {},
            "source": "As you can see the coordinates of Haymarket and Ultimo are completely wrong, which is due similar suburb names in other countries so, I had to replace these coordinates with values acquired from google search."
        },
        {
            "cell_type": "code",
            "execution_count": 66,
            "metadata": {},
            "outputs": [
                {
                    "name": "stderr",
                    "output_type": "stream",
                    "text": "/opt/conda/envs/Python36/lib/python3.6/site-packages/ipykernel/__main__.py:1: SettingWithCopyWarning: \nA value is trying to be set on a copy of a slice from a DataFrame\n\nSee the caveats in the documentation: http://pandas.pydata.org/pandas-docs/stable/indexing.html#indexing-view-versus-copy\n  if __name__ == '__main__':\n/opt/conda/envs/Python36/lib/python3.6/site-packages/ipykernel/__main__.py:2: SettingWithCopyWarning: \nA value is trying to be set on a copy of a slice from a DataFrame\n\nSee the caveats in the documentation: http://pandas.pydata.org/pandas-docs/stable/indexing.html#indexing-view-versus-copy\n  from ipykernel import kernelapp as app\n/opt/conda/envs/Python36/lib/python3.6/site-packages/ipykernel/__main__.py:3: SettingWithCopyWarning: \nA value is trying to be set on a copy of a slice from a DataFrame\n\nSee the caveats in the documentation: http://pandas.pydata.org/pandas-docs/stable/indexing.html#indexing-view-versus-copy\n  app.launch_new_instance()\n/opt/conda/envs/Python36/lib/python3.6/site-packages/ipykernel/__main__.py:4: SettingWithCopyWarning: \nA value is trying to be set on a copy of a slice from a DataFrame\n\nSee the caveats in the documentation: http://pandas.pydata.org/pandas-docs/stable/indexing.html#indexing-view-versus-copy\n"
                }
            ],
            "source": "df2['Latitude'][14] = -33.8809\ndf2['Longitude'][14] = 151.2029\ndf2['Latitude'][26] = -33.8822\ndf2['Longitude'][26] = 151.1970"
        },
        {
            "cell_type": "code",
            "execution_count": 67,
            "metadata": {},
            "outputs": [
                {
                    "data": {
                        "text/html": "<div>\n<style scoped>\n    .dataframe tbody tr th:only-of-type {\n        vertical-align: middle;\n    }\n\n    .dataframe tbody tr th {\n        vertical-align: top;\n    }\n\n    .dataframe thead th {\n        text-align: right;\n    }\n</style>\n<table border=\"1\" class=\"dataframe\">\n  <thead>\n    <tr style=\"text-align: right;\">\n      <th></th>\n      <th>NAME</th>\n      <th>Latitude</th>\n      <th>Longitude</th>\n    </tr>\n  </thead>\n  <tbody>\n    <tr>\n      <th>14</th>\n      <td>Haymarket</td>\n      <td>-33.880900</td>\n      <td>151.202900</td>\n    </tr>\n    <tr>\n      <th>19</th>\n      <td>Pyrmont</td>\n      <td>-33.869214</td>\n      <td>151.192363</td>\n    </tr>\n    <tr>\n      <th>24</th>\n      <td>Sydney</td>\n      <td>-33.854816</td>\n      <td>151.216454</td>\n    </tr>\n    <tr>\n      <th>25</th>\n      <td>The Rocks</td>\n      <td>-33.859992</td>\n      <td>151.208322</td>\n    </tr>\n    <tr>\n      <th>26</th>\n      <td>Ultimo</td>\n      <td>-33.882200</td>\n      <td>151.197000</td>\n    </tr>\n  </tbody>\n</table>\n</div>",
                        "text/plain": "         NAME   Latitude   Longitude\n14  Haymarket -33.880900  151.202900\n19    Pyrmont -33.869214  151.192363\n24     Sydney -33.854816  151.216454\n25  The Rocks -33.859992  151.208322\n26     Ultimo -33.882200  151.197000"
                    },
                    "execution_count": 67,
                    "metadata": {},
                    "output_type": "execute_result"
                }
            ],
            "source": "df2"
        },
        {
            "cell_type": "code",
            "execution_count": null,
            "metadata": {},
            "outputs": [],
            "source": "address = 'Sydney, Australia'\n\ngeolocator = Nominatim()\nlocation = geolocator.geocode(address)\nlatitude = location.latitude\nlongitude = location.longitude\nprint('The geograpical coordinate of Sydney are {}, {}.'.format(latitude, longitude))"
        },
        {
            "cell_type": "code",
            "execution_count": 71,
            "metadata": {},
            "outputs": [
                {
                    "data": {
                        "text/html": "<div style=\"width:100%;\"><div style=\"position:relative;width:100%;height:0;padding-bottom:60%;\"><iframe src=\"data:text/html;charset=utf-8;base64,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\" style=\"position:absolute;width:100%;height:100%;left:0;top:0;border:none !important;\" allowfullscreen webkitallowfullscreen mozallowfullscreen></iframe></div></div>",
                        "text/plain": "<folium.folium.Map at 0x7f872f420668>"
                    },
                    "execution_count": 71,
                    "metadata": {},
                    "output_type": "execute_result"
                }
            ],
            "source": "map_sydney = folium.Map(location=[latitude, longitude], zoom_start=13)\n\n# add markers to map\nfor lat, lng, suburb in zip(df2['Latitude'], df2['Longitude'], df2['NAME']):\n    label = '{}'.format(suburb)\n    label = folium.Popup(label, parse_html=True)\n    folium.CircleMarker(\n        [lat, lng],\n        radius=5,\n        popup=label,\n        color='blue',\n        fill=True,\n        fill_color='#3186cc',\n        fill_opacity=0.7,\n        parse_html=False).add_to(map_sydney)  \n    \nmap_sydney"
        },
        {
            "cell_type": "code",
            "execution_count": 72,
            "metadata": {},
            "outputs": [
                {
                    "name": "stdout",
                    "output_type": "stream",
                    "text": "Your credentails:\nCLIENT_ID: TBSAWZA34Y1WK5SFX0LKDMURD2U1C3C5AWE1SWSVTE5J2AXJ\nCLIENT_SECRET:0B5O15IRU01GNF1N42ONWDZTTUPQFADEJNSF1RBKIHFCJEE5\n"
                }
            ],
            "source": "CLIENT_ID = 'TBSAWZA34Y1WK5SFX0LKDMURD2U1C3C5AWE1SWSVTE5J2AXJ' # your Foursquare ID\nCLIENT_SECRET = '0B5O15IRU01GNF1N42ONWDZTTUPQFADEJNSF1RBKIHFCJEE5' # your Foursquare Secret\nVERSION = '20180605' # Foursquare API version\n\nprint('Your credentails:')\nprint('CLIENT_ID: ' + CLIENT_ID)\nprint('CLIENT_SECRET:' + CLIENT_SECRET)"
        },
        {
            "cell_type": "code",
            "execution_count": 78,
            "metadata": {},
            "outputs": [],
            "source": "def getNearbyVenues(names, latitudes, longitudes, radius=500, LIMIT = 100):\n    \n    venues_list=[]\n    for name, lat, lng in zip(names, latitudes, longitudes):\n        print(name)\n            \n        # create the API request URL\n        url = 'https://api.foursquare.com/v2/venues/explore?&client_id={}&client_secret={}&v={}&ll={},{}&radius={}&limit={}'.format(\n            CLIENT_ID, \n            CLIENT_SECRET, \n            VERSION, \n            lat, \n            lng, \n            radius, \n            LIMIT)\n            \n        # make the GET request\n        results = requests.get(url).json()[\"response\"]['groups'][0]['items']\n        \n        # return only relevant information for each nearby venue\n        venues_list.append([(\n            name, \n            lat, \n            lng, \n            v['venue']['name'], \n            v['venue']['location']['lat'], \n            v['venue']['location']['lng'],  \n            v['venue']['categories'][0]['name']) for v in results])\n\n    nearby_venues = pd.DataFrame([item for venue_list in venues_list for item in venue_list])\n    nearby_venues.columns = ['Suburb', \n                  'Suburb Latitude', \n                  'Suburb Longitude', \n                  'Venue', \n                  'Venue Latitude', \n                  'Venue Longitude', \n                  'Venue Category']\n    \n    return(nearby_venues)"
        },
        {
            "cell_type": "code",
            "execution_count": 79,
            "metadata": {},
            "outputs": [
                {
                    "name": "stdout",
                    "output_type": "stream",
                    "text": "Haymarket\nPyrmont\nSydney\nThe Rocks\nUltimo\nShape of venue dataframe is  (278, 7)\n"
                },
                {
                    "data": {
                        "text/html": "<div>\n<style scoped>\n    .dataframe tbody tr th:only-of-type {\n        vertical-align: middle;\n    }\n\n    .dataframe tbody tr th {\n        vertical-align: top;\n    }\n\n    .dataframe thead th {\n        text-align: right;\n    }\n</style>\n<table border=\"1\" class=\"dataframe\">\n  <thead>\n    <tr style=\"text-align: right;\">\n      <th></th>\n      <th>Suburb</th>\n      <th>Suburb Latitude</th>\n      <th>Suburb Longitude</th>\n      <th>Venue</th>\n      <th>Venue Latitude</th>\n      <th>Venue Longitude</th>\n      <th>Venue Category</th>\n    </tr>\n  </thead>\n  <tbody>\n    <tr>\n      <th>0</th>\n      <td>Haymarket</td>\n      <td>-33.8809</td>\n      <td>151.2029</td>\n      <td>Do Dee Paidang</td>\n      <td>-33.880670</td>\n      <td>151.203018</td>\n      <td>Thai Restaurant</td>\n    </tr>\n    <tr>\n      <th>1</th>\n      <td>Haymarket</td>\n      <td>-33.8809</td>\n      <td>151.2029</td>\n      <td>Satang Thai | \u0e2a\u0e15\u0e32\u0e07\u0e04\u0e4c (Satang Thai)</td>\n      <td>-33.882317</td>\n      <td>151.203684</td>\n      <td>Thai Restaurant</td>\n    </tr>\n    <tr>\n      <th>2</th>\n      <td>Haymarket</td>\n      <td>-33.8809</td>\n      <td>151.2029</td>\n      <td>Ho Jiak</td>\n      <td>-33.879303</td>\n      <td>151.203520</td>\n      <td>Malay Restaurant</td>\n    </tr>\n    <tr>\n      <th>3</th>\n      <td>Haymarket</td>\n      <td>-33.8809</td>\n      <td>151.2029</td>\n      <td>Wake Up! Sydney</td>\n      <td>-33.882448</td>\n      <td>151.204836</td>\n      <td>Hostel</td>\n    </tr>\n    <tr>\n      <th>4</th>\n      <td>Haymarket</td>\n      <td>-33.8809</td>\n      <td>151.2029</td>\n      <td>Kura Japanese Dining</td>\n      <td>-33.880216</td>\n      <td>151.204244</td>\n      <td>Japanese Restaurant</td>\n    </tr>\n  </tbody>\n</table>\n</div>",
                        "text/plain": "      Suburb  Suburb Latitude  Suburb Longitude  \\\n0  Haymarket         -33.8809          151.2029   \n1  Haymarket         -33.8809          151.2029   \n2  Haymarket         -33.8809          151.2029   \n3  Haymarket         -33.8809          151.2029   \n4  Haymarket         -33.8809          151.2029   \n\n                                Venue  Venue Latitude  Venue Longitude  \\\n0                      Do Dee Paidang      -33.880670       151.203018   \n1  Satang Thai | \u0e2a\u0e15\u0e32\u0e07\u0e04\u0e4c (Satang Thai)      -33.882317       151.203684   \n2                             Ho Jiak      -33.879303       151.203520   \n3                     Wake Up! Sydney      -33.882448       151.204836   \n4                Kura Japanese Dining      -33.880216       151.204244   \n\n        Venue Category  \n0      Thai Restaurant  \n1      Thai Restaurant  \n2     Malay Restaurant  \n3               Hostel  \n4  Japanese Restaurant  "
                    },
                    "execution_count": 79,
                    "metadata": {},
                    "output_type": "execute_result"
                }
            ],
            "source": "sydney_venues = getNearbyVenues(names=df2['NAME'],\n                                   latitudes=df2['Latitude'],\n                                   longitudes=df2['Longitude']\n                                  )\n\nprint(\"Shape of venue dataframe is \", sydney_venues.shape)\nsydney_venues.head()"
        },
        {
            "cell_type": "code",
            "execution_count": 80,
            "metadata": {},
            "outputs": [
                {
                    "data": {
                        "text/html": "<div>\n<style scoped>\n    .dataframe tbody tr th:only-of-type {\n        vertical-align: middle;\n    }\n\n    .dataframe tbody tr th {\n        vertical-align: top;\n    }\n\n    .dataframe thead th {\n        text-align: right;\n    }\n</style>\n<table border=\"1\" class=\"dataframe\">\n  <thead>\n    <tr style=\"text-align: right;\">\n      <th></th>\n      <th>Suburb Latitude</th>\n      <th>Suburb Longitude</th>\n      <th>Venue</th>\n      <th>Venue Latitude</th>\n      <th>Venue Longitude</th>\n      <th>Venue Category</th>\n    </tr>\n    <tr>\n      <th>Suburb</th>\n      <th></th>\n      <th></th>\n      <th></th>\n      <th></th>\n      <th></th>\n      <th></th>\n    </tr>\n  </thead>\n  <tbody>\n    <tr>\n      <th>Haymarket</th>\n      <td>71</td>\n      <td>71</td>\n      <td>71</td>\n      <td>71</td>\n      <td>71</td>\n      <td>71</td>\n    </tr>\n    <tr>\n      <th>Pyrmont</th>\n      <td>38</td>\n      <td>38</td>\n      <td>38</td>\n      <td>38</td>\n      <td>38</td>\n      <td>38</td>\n    </tr>\n    <tr>\n      <th>Sydney</th>\n      <td>14</td>\n      <td>14</td>\n      <td>14</td>\n      <td>14</td>\n      <td>14</td>\n      <td>14</td>\n    </tr>\n    <tr>\n      <th>The Rocks</th>\n      <td>100</td>\n      <td>100</td>\n      <td>100</td>\n      <td>100</td>\n      <td>100</td>\n      <td>100</td>\n    </tr>\n    <tr>\n      <th>Ultimo</th>\n      <td>55</td>\n      <td>55</td>\n      <td>55</td>\n      <td>55</td>\n      <td>55</td>\n      <td>55</td>\n    </tr>\n  </tbody>\n</table>\n</div>",
                        "text/plain": "           Suburb Latitude  Suburb Longitude  Venue  Venue Latitude  \\\nSuburb                                                                \nHaymarket               71                71     71              71   \nPyrmont                 38                38     38              38   \nSydney                  14                14     14              14   \nThe Rocks              100               100    100             100   \nUltimo                  55                55     55              55   \n\n           Venue Longitude  Venue Category  \nSuburb                                      \nHaymarket               71              71  \nPyrmont                 38              38  \nSydney                  14              14  \nThe Rocks              100             100  \nUltimo                  55              55  "
                    },
                    "execution_count": 80,
                    "metadata": {},
                    "output_type": "execute_result"
                }
            ],
            "source": "sydney_venues.groupby('Suburb').count()"
        },
        {
            "cell_type": "code",
            "execution_count": 82,
            "metadata": {},
            "outputs": [
                {
                    "name": "stdout",
                    "output_type": "stream",
                    "text": "There are 89 uniques categories.\n"
                }
            ],
            "source": "# get the List of Unique Categories\nprint('There are {} uniques categories.'.format(len(sydney_venues['Venue Category'].unique())))"
        },
        {
            "cell_type": "code",
            "execution_count": 83,
            "metadata": {},
            "outputs": [
                {
                    "data": {
                        "text/html": "<div>\n<style scoped>\n    .dataframe tbody tr th:only-of-type {\n        vertical-align: middle;\n    }\n\n    .dataframe tbody tr th {\n        vertical-align: top;\n    }\n\n    .dataframe thead th {\n        text-align: right;\n    }\n</style>\n<table border=\"1\" class=\"dataframe\">\n  <thead>\n    <tr style=\"text-align: right;\">\n      <th></th>\n      <th>Suburb</th>\n      <th>Art Gallery</th>\n      <th>Art Museum</th>\n      <th>Asian Restaurant</th>\n      <th>Australian Restaurant</th>\n      <th>BBQ Joint</th>\n      <th>Bakery</th>\n      <th>Bar</th>\n      <th>Basketball Court</th>\n      <th>Bistro</th>\n      <th>...</th>\n      <th>Supermarket</th>\n      <th>Sushi Restaurant</th>\n      <th>Szechuan Restaurant</th>\n      <th>Thai Restaurant</th>\n      <th>Theater</th>\n      <th>Tour Provider</th>\n      <th>Trail</th>\n      <th>Vegetarian / Vegan Restaurant</th>\n      <th>Vietnamese Restaurant</th>\n      <th>Wine Bar</th>\n    </tr>\n  </thead>\n  <tbody>\n    <tr>\n      <th>0</th>\n      <td>Haymarket</td>\n      <td>0</td>\n      <td>0</td>\n      <td>0</td>\n      <td>0</td>\n      <td>0</td>\n      <td>0</td>\n      <td>0</td>\n      <td>0</td>\n      <td>0</td>\n      <td>...</td>\n      <td>0</td>\n      <td>0</td>\n      <td>0</td>\n      <td>1</td>\n      <td>0</td>\n      <td>0</td>\n      <td>0</td>\n      <td>0</td>\n      <td>0</td>\n      <td>0</td>\n    </tr>\n    <tr>\n      <th>1</th>\n      <td>Haymarket</td>\n      <td>0</td>\n      <td>0</td>\n      <td>0</td>\n      <td>0</td>\n      <td>0</td>\n      <td>0</td>\n      <td>0</td>\n      <td>0</td>\n      <td>0</td>\n      <td>...</td>\n      <td>0</td>\n      <td>0</td>\n      <td>0</td>\n      <td>1</td>\n      <td>0</td>\n      <td>0</td>\n      <td>0</td>\n      <td>0</td>\n      <td>0</td>\n      <td>0</td>\n    </tr>\n    <tr>\n      <th>2</th>\n      <td>Haymarket</td>\n      <td>0</td>\n      <td>0</td>\n      <td>0</td>\n      <td>0</td>\n      <td>0</td>\n      <td>0</td>\n      <td>0</td>\n      <td>0</td>\n      <td>0</td>\n      <td>...</td>\n      <td>0</td>\n      <td>0</td>\n      <td>0</td>\n      <td>0</td>\n      <td>0</td>\n      <td>0</td>\n      <td>0</td>\n      <td>0</td>\n      <td>0</td>\n      <td>0</td>\n    </tr>\n    <tr>\n      <th>3</th>\n      <td>Haymarket</td>\n      <td>0</td>\n      <td>0</td>\n      <td>0</td>\n      <td>0</td>\n      <td>0</td>\n      <td>0</td>\n      <td>0</td>\n      <td>0</td>\n      <td>0</td>\n      <td>...</td>\n      <td>0</td>\n      <td>0</td>\n      <td>0</td>\n      <td>0</td>\n      <td>0</td>\n      <td>0</td>\n      <td>0</td>\n      <td>0</td>\n      <td>0</td>\n      <td>0</td>\n    </tr>\n    <tr>\n      <th>4</th>\n      <td>Haymarket</td>\n      <td>0</td>\n      <td>0</td>\n      <td>0</td>\n      <td>0</td>\n      <td>0</td>\n      <td>0</td>\n      <td>0</td>\n      <td>0</td>\n      <td>0</td>\n      <td>...</td>\n      <td>0</td>\n      <td>0</td>\n      <td>0</td>\n      <td>0</td>\n      <td>0</td>\n      <td>0</td>\n      <td>0</td>\n      <td>0</td>\n      <td>0</td>\n      <td>0</td>\n    </tr>\n  </tbody>\n</table>\n<p>5 rows \u00d7 90 columns</p>\n</div>",
                        "text/plain": "      Suburb  Art Gallery  Art Museum  Asian Restaurant  \\\n0  Haymarket            0           0                 0   \n1  Haymarket            0           0                 0   \n2  Haymarket            0           0                 0   \n3  Haymarket            0           0                 0   \n4  Haymarket            0           0                 0   \n\n   Australian Restaurant  BBQ Joint  Bakery  Bar  Basketball Court  Bistro  \\\n0                      0          0       0    0                 0       0   \n1                      0          0       0    0                 0       0   \n2                      0          0       0    0                 0       0   \n3                      0          0       0    0                 0       0   \n4                      0          0       0    0                 0       0   \n\n   ...  Supermarket  Sushi Restaurant  Szechuan Restaurant  Thai Restaurant  \\\n0  ...            0                 0                    0                1   \n1  ...            0                 0                    0                1   \n2  ...            0                 0                    0                0   \n3  ...            0                 0                    0                0   \n4  ...            0                 0                    0                0   \n\n   Theater  Tour Provider  Trail  Vegetarian / Vegan Restaurant  \\\n0        0              0      0                              0   \n1        0              0      0                              0   \n2        0              0      0                              0   \n3        0              0      0                              0   \n4        0              0      0                              0   \n\n   Vietnamese Restaurant  Wine Bar  \n0                      0         0  \n1                      0         0  \n2                      0         0  \n3                      0         0  \n4                      0         0  \n\n[5 rows x 90 columns]"
                    },
                    "execution_count": 83,
                    "metadata": {},
                    "output_type": "execute_result"
                }
            ],
            "source": "# one hot encoding\nvenues_onehot = pd.get_dummies(sydney_venues[['Venue Category']], prefix=\"\", prefix_sep=\"\")\n\n# add street column back to dataframe\nvenues_onehot['Suburb'] = sydney_venues['Suburb'] \n\n# move street column to the first column\nfixed_columns = [venues_onehot.columns[-1]] + list(venues_onehot.columns[:-1])\n\n#fixed_columns\nvenues_onehot = venues_onehot[fixed_columns]\n\nvenues_onehot.head()"
        },
        {
            "cell_type": "code",
            "execution_count": 84,
            "metadata": {},
            "outputs": [
                {
                    "data": {
                        "text/html": "<div>\n<style scoped>\n    .dataframe tbody tr th:only-of-type {\n        vertical-align: middle;\n    }\n\n    .dataframe tbody tr th {\n        vertical-align: top;\n    }\n\n    .dataframe thead th {\n        text-align: right;\n    }\n</style>\n<table border=\"1\" class=\"dataframe\">\n  <thead>\n    <tr style=\"text-align: right;\">\n      <th></th>\n      <th>Suburb</th>\n      <th>Art Gallery</th>\n      <th>Art Museum</th>\n      <th>Asian Restaurant</th>\n      <th>Australian Restaurant</th>\n      <th>BBQ Joint</th>\n      <th>Bakery</th>\n      <th>Bar</th>\n      <th>Basketball Court</th>\n      <th>Bistro</th>\n      <th>...</th>\n      <th>Supermarket</th>\n      <th>Sushi Restaurant</th>\n      <th>Szechuan Restaurant</th>\n      <th>Thai Restaurant</th>\n      <th>Theater</th>\n      <th>Tour Provider</th>\n      <th>Trail</th>\n      <th>Vegetarian / Vegan Restaurant</th>\n      <th>Vietnamese Restaurant</th>\n      <th>Wine Bar</th>\n    </tr>\n  </thead>\n  <tbody>\n    <tr>\n      <th>0</th>\n      <td>Haymarket</td>\n      <td>0.000000</td>\n      <td>0.00</td>\n      <td>0.014085</td>\n      <td>0.000000</td>\n      <td>0.014085</td>\n      <td>0.014085</td>\n      <td>0.014085</td>\n      <td>0.000000</td>\n      <td>0.00</td>\n      <td>...</td>\n      <td>0.000000</td>\n      <td>0.014085</td>\n      <td>0.014085</td>\n      <td>0.154930</td>\n      <td>0.014085</td>\n      <td>0.00</td>\n      <td>0.00</td>\n      <td>0.000000</td>\n      <td>0.014085</td>\n      <td>0.00</td>\n    </tr>\n    <tr>\n      <th>1</th>\n      <td>Pyrmont</td>\n      <td>0.000000</td>\n      <td>0.00</td>\n      <td>0.026316</td>\n      <td>0.026316</td>\n      <td>0.000000</td>\n      <td>0.026316</td>\n      <td>0.105263</td>\n      <td>0.000000</td>\n      <td>0.00</td>\n      <td>...</td>\n      <td>0.000000</td>\n      <td>0.000000</td>\n      <td>0.000000</td>\n      <td>0.000000</td>\n      <td>0.026316</td>\n      <td>0.00</td>\n      <td>0.00</td>\n      <td>0.000000</td>\n      <td>0.026316</td>\n      <td>0.00</td>\n    </tr>\n    <tr>\n      <th>2</th>\n      <td>Sydney</td>\n      <td>0.000000</td>\n      <td>0.00</td>\n      <td>0.000000</td>\n      <td>0.142857</td>\n      <td>0.000000</td>\n      <td>0.000000</td>\n      <td>0.000000</td>\n      <td>0.000000</td>\n      <td>0.00</td>\n      <td>...</td>\n      <td>0.000000</td>\n      <td>0.000000</td>\n      <td>0.000000</td>\n      <td>0.000000</td>\n      <td>0.214286</td>\n      <td>0.00</td>\n      <td>0.00</td>\n      <td>0.000000</td>\n      <td>0.000000</td>\n      <td>0.00</td>\n    </tr>\n    <tr>\n      <th>3</th>\n      <td>The Rocks</td>\n      <td>0.000000</td>\n      <td>0.01</td>\n      <td>0.010000</td>\n      <td>0.060000</td>\n      <td>0.000000</td>\n      <td>0.020000</td>\n      <td>0.010000</td>\n      <td>0.000000</td>\n      <td>0.01</td>\n      <td>...</td>\n      <td>0.000000</td>\n      <td>0.000000</td>\n      <td>0.000000</td>\n      <td>0.010000</td>\n      <td>0.010000</td>\n      <td>0.01</td>\n      <td>0.01</td>\n      <td>0.000000</td>\n      <td>0.000000</td>\n      <td>0.01</td>\n    </tr>\n    <tr>\n      <th>4</th>\n      <td>Ultimo</td>\n      <td>0.018182</td>\n      <td>0.00</td>\n      <td>0.000000</td>\n      <td>0.018182</td>\n      <td>0.000000</td>\n      <td>0.000000</td>\n      <td>0.036364</td>\n      <td>0.018182</td>\n      <td>0.00</td>\n      <td>...</td>\n      <td>0.036364</td>\n      <td>0.000000</td>\n      <td>0.000000</td>\n      <td>0.018182</td>\n      <td>0.000000</td>\n      <td>0.00</td>\n      <td>0.00</td>\n      <td>0.018182</td>\n      <td>0.000000</td>\n      <td>0.00</td>\n    </tr>\n  </tbody>\n</table>\n<p>5 rows \u00d7 90 columns</p>\n</div>",
                        "text/plain": "      Suburb  Art Gallery  Art Museum  Asian Restaurant  \\\n0  Haymarket     0.000000        0.00          0.014085   \n1    Pyrmont     0.000000        0.00          0.026316   \n2     Sydney     0.000000        0.00          0.000000   \n3  The Rocks     0.000000        0.01          0.010000   \n4     Ultimo     0.018182        0.00          0.000000   \n\n   Australian Restaurant  BBQ Joint    Bakery       Bar  Basketball Court  \\\n0               0.000000   0.014085  0.014085  0.014085          0.000000   \n1               0.026316   0.000000  0.026316  0.105263          0.000000   \n2               0.142857   0.000000  0.000000  0.000000          0.000000   \n3               0.060000   0.000000  0.020000  0.010000          0.000000   \n4               0.018182   0.000000  0.000000  0.036364          0.018182   \n\n   Bistro  ...  Supermarket  Sushi Restaurant  Szechuan Restaurant  \\\n0    0.00  ...     0.000000          0.014085             0.014085   \n1    0.00  ...     0.000000          0.000000             0.000000   \n2    0.00  ...     0.000000          0.000000             0.000000   \n3    0.01  ...     0.000000          0.000000             0.000000   \n4    0.00  ...     0.036364          0.000000             0.000000   \n\n   Thai Restaurant   Theater  Tour Provider  Trail  \\\n0         0.154930  0.014085           0.00   0.00   \n1         0.000000  0.026316           0.00   0.00   \n2         0.000000  0.214286           0.00   0.00   \n3         0.010000  0.010000           0.01   0.01   \n4         0.018182  0.000000           0.00   0.00   \n\n   Vegetarian / Vegan Restaurant  Vietnamese Restaurant  Wine Bar  \n0                       0.000000               0.014085      0.00  \n1                       0.000000               0.026316      0.00  \n2                       0.000000               0.000000      0.00  \n3                       0.000000               0.000000      0.01  \n4                       0.018182               0.000000      0.00  \n\n[5 rows x 90 columns]"
                    },
                    "execution_count": 84,
                    "metadata": {},
                    "output_type": "execute_result"
                }
            ],
            "source": "sydney_grouped = venues_onehot.groupby('Suburb').mean().reset_index()\nsydney_grouped"
        },
        {
            "cell_type": "code",
            "execution_count": 90,
            "metadata": {},
            "outputs": [
                {
                    "name": "stdout",
                    "output_type": "stream",
                    "text": "----Haymarket----\n----Pyrmont----\n----Sydney----\n----The Rocks----\n----Ultimo----\n"
                }
            ],
            "source": "# What are the top 5 venues/facilities nearby profitable real estate investments?\n\nnum_top_venues = 5\n\nfor hood in sydney_grouped['Suburb']:\n    print(\"----\"+hood+\"----\")\n    temp = sydney_grouped[sydney_grouped['Suburb'] == hood].T.reset_index()\n    temp.columns = ['venue','freq']\n    temp = temp.iloc[1:]\n    temp['freq'] = temp['freq'].astype(float)\n    temp = temp.round({'freq': 2})"
        },
        {
            "cell_type": "code",
            "execution_count": 91,
            "metadata": {},
            "outputs": [],
            "source": "num_top_venues = 10\n\nindicators = ['st', 'nd', 'rd']\n\n# create columns according to number of top venues\ncolumns = ['Suburb']\nfor ind in np.arange(num_top_venues):\n    try:\n        columns.append('{}{} Most Common Venue'.format(ind+1, indicators[ind]))\n    except:\n        columns.append('{}th Most Common Venue'.format(ind+1))"
        },
        {
            "cell_type": "code",
            "execution_count": 92,
            "metadata": {},
            "outputs": [],
            "source": "# Define a function to return the most common venues/facilities nearby real estate investments#\n\ndef return_most_common_venues(row, num_top_venues):\n    row_categories = row.iloc[1:]\n    row_categories_sorted = row_categories.sort_values(ascending=False)\n    \n    return row_categories_sorted.index.values[0:num_top_venues]"
        },
        {
            "cell_type": "code",
            "execution_count": 93,
            "metadata": {},
            "outputs": [],
            "source": "\n# create a new dataframe\nvenues_sorted = pd.DataFrame(columns=columns)\nvenues_sorted['Suburb'] = sydney_grouped['Suburb']\n\nfor ind in np.arange(sydney_grouped.shape[0]):\n    venues_sorted.iloc[ind, 1:] = return_most_common_venues(sydney_grouped.iloc[ind, :], num_top_venues)"
        },
        {
            "cell_type": "code",
            "execution_count": 94,
            "metadata": {},
            "outputs": [
                {
                    "data": {
                        "text/html": "<div>\n<style scoped>\n    .dataframe tbody tr th:only-of-type {\n        vertical-align: middle;\n    }\n\n    .dataframe tbody tr th {\n        vertical-align: top;\n    }\n\n    .dataframe thead th {\n        text-align: right;\n    }\n</style>\n<table border=\"1\" class=\"dataframe\">\n  <thead>\n    <tr style=\"text-align: right;\">\n      <th></th>\n      <th>Suburb</th>\n      <th>1st Most Common Venue</th>\n      <th>2nd Most Common Venue</th>\n      <th>3rd Most Common Venue</th>\n      <th>4th Most Common Venue</th>\n      <th>5th Most Common Venue</th>\n      <th>6th Most Common Venue</th>\n      <th>7th Most Common Venue</th>\n      <th>8th Most Common Venue</th>\n      <th>9th Most Common Venue</th>\n      <th>10th Most Common Venue</th>\n    </tr>\n  </thead>\n  <tbody>\n    <tr>\n      <th>0</th>\n      <td>Haymarket</td>\n      <td>Thai Restaurant</td>\n      <td>Chinese Restaurant</td>\n      <td>Coffee Shop</td>\n      <td>Caf\u00e9</td>\n      <td>Hostel</td>\n      <td>Korean Restaurant</td>\n      <td>Ice Cream Shop</td>\n      <td>Japanese Restaurant</td>\n      <td>Malay Restaurant</td>\n      <td>Hotpot Restaurant</td>\n    </tr>\n    <tr>\n      <th>1</th>\n      <td>Pyrmont</td>\n      <td>Caf\u00e9</td>\n      <td>Bar</td>\n      <td>Fish Market</td>\n      <td>Seafood Restaurant</td>\n      <td>Pub</td>\n      <td>Restaurant</td>\n      <td>Japanese Restaurant</td>\n      <td>Breakfast Spot</td>\n      <td>Butcher</td>\n      <td>Rock Club</td>\n    </tr>\n    <tr>\n      <th>2</th>\n      <td>Sydney</td>\n      <td>Theater</td>\n      <td>Concert Hall</td>\n      <td>Australian Restaurant</td>\n      <td>Cocktail Bar</td>\n      <td>French Restaurant</td>\n      <td>Park</td>\n      <td>Opera House</td>\n      <td>Caf\u00e9</td>\n      <td>Plaza</td>\n      <td>German Restaurant</td>\n    </tr>\n    <tr>\n      <th>3</th>\n      <td>The Rocks</td>\n      <td>Caf\u00e9</td>\n      <td>Hotel</td>\n      <td>Australian Restaurant</td>\n      <td>Pub</td>\n      <td>Cocktail Bar</td>\n      <td>Italian Restaurant</td>\n      <td>Park</td>\n      <td>Museum</td>\n      <td>Brewery</td>\n      <td>Hotel Bar</td>\n    </tr>\n    <tr>\n      <th>4</th>\n      <td>Ultimo</td>\n      <td>Caf\u00e9</td>\n      <td>Coffee Shop</td>\n      <td>Dumpling Restaurant</td>\n      <td>Hotel</td>\n      <td>Ice Cream Shop</td>\n      <td>Supermarket</td>\n      <td>Bar</td>\n      <td>Art Gallery</td>\n      <td>Museum</td>\n      <td>Multiplex</td>\n    </tr>\n  </tbody>\n</table>\n</div>",
                        "text/plain": "      Suburb 1st Most Common Venue 2nd Most Common Venue  \\\n0  Haymarket       Thai Restaurant    Chinese Restaurant   \n1    Pyrmont                  Caf\u00e9                   Bar   \n2     Sydney               Theater          Concert Hall   \n3  The Rocks                  Caf\u00e9                 Hotel   \n4     Ultimo                  Caf\u00e9           Coffee Shop   \n\n   3rd Most Common Venue 4th Most Common Venue 5th Most Common Venue  \\\n0            Coffee Shop                  Caf\u00e9                Hostel   \n1            Fish Market    Seafood Restaurant                   Pub   \n2  Australian Restaurant          Cocktail Bar     French Restaurant   \n3  Australian Restaurant                   Pub          Cocktail Bar   \n4    Dumpling Restaurant                 Hotel        Ice Cream Shop   \n\n  6th Most Common Venue 7th Most Common Venue 8th Most Common Venue  \\\n0     Korean Restaurant        Ice Cream Shop   Japanese Restaurant   \n1            Restaurant   Japanese Restaurant        Breakfast Spot   \n2                  Park           Opera House                  Caf\u00e9   \n3    Italian Restaurant                  Park                Museum   \n4           Supermarket                   Bar           Art Gallery   \n\n  9th Most Common Venue 10th Most Common Venue  \n0      Malay Restaurant      Hotpot Restaurant  \n1               Butcher              Rock Club  \n2                 Plaza      German Restaurant  \n3               Brewery              Hotel Bar  \n4                Museum              Multiplex  "
                    },
                    "execution_count": 94,
                    "metadata": {},
                    "output_type": "execute_result"
                }
            ],
            "source": "venues_sorted.head()"
        },
        {
            "cell_type": "code",
            "execution_count": null,
            "metadata": {},
            "outputs": [],
            "source": "#Distribute in 3 Clusters\n\n# set number of clusters\nkclusters = 3\n\nsydney_grouped_clustering = sydney_grouped.drop('Suburb', 1)\n\n# run k-means clustering\nkmeans = KMeans(n_clusters=kclusters, random_state=0).fit(sydney_grouped_clustering)\n\n# check cluster labels generated for each row in the dataframe\nkmeans.labels_[0:50]"
        }
    ],
    "metadata": {
        "kernelspec": {
            "display_name": "Python 3.6",
            "language": "python",
            "name": "python3"
        },
        "language_info": {
            "codemirror_mode": {
                "name": "ipython",
                "version": 3
            },
            "file_extension": ".py",
            "mimetype": "text/x-python",
            "name": "python",
            "nbconvert_exporter": "python",
            "pygments_lexer": "ipython3",
            "version": "3.6.9"
        }
    },
    "nbformat": 4,
    "nbformat_minor": 1
}