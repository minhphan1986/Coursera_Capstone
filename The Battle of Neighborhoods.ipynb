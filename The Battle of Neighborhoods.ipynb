{
    "cells": [
        {
            "cell_type": "markdown",
            "metadata": {
                "collapsed": true
            },
            "source": "# Capstone Project - The Battle of Neighborhoods\n\n## 1. Business Problem section\n\n### 1.1 Background\n\nI live in Sydney, a place being in the world\u2019s top-10 best cities for quality of living. Among the ranking elements is the dining culture. Indeed, Sydney is famous for its high-quality restaurants and is the place where you can find all of the world's famous dishes.\n\n### 1.2 Business Problem\nOne of my friends wanted to join the competition by investing in a restaurant business in inner Sydney (i.e. the City of Sydney). He asked me which suburb and which type of restaurants are the best to invest in. To answer the question, we can cluster the suburbs in inner Sydney with similar restaurant types. The target suburb should be the one in the cluster with the least number of restaurants.\n\nThe inner Sydney consists of 29 suburbs but our focus is on 5 most crowded suburbs - Sydney, The Rocks, Haymarket, Ultimo and Pyrmont.\n\n### 1.3 Target Audience\n* Business owners who want to invest or open a restaurant. This analysis will be a comprehensive guide to start or expand restaurants in an area with the least competiton\n* Data Scientists who want to implement some of the most used Exploratory Data Analysis techniques to obtain necessary data, analyze it, and, finally be able to tell a story out of it."
        },
        {
            "cell_type": "markdown",
            "metadata": {},
            "source": "## 2. Data section\n\n### 2.1 Getting list of suburbs\n\nFirst of all, let us import all the required libraries and packages."
        },
        {
            "cell_type": "code",
            "execution_count": 1,
            "metadata": {},
            "outputs": [
                {
                    "name": "stdout",
                    "output_type": "stream",
                    "text": "Solving environment: done\n\n## Package Plan ##\n\n  environment location: /opt/conda/envs/Python36\n\n  added / updated specs: \n    - geopy\n\n\nThe following packages will be downloaded:\n\n    package                    |            build\n    ---------------------------|-----------------\n    openssl-1.1.1d             |       h516909a_0         2.1 MB  conda-forge\n    ca-certificates-2019.11.28 |       hecc5488_0         145 KB  conda-forge\n    certifi-2019.11.28         |           py36_0         149 KB  conda-forge\n    geographiclib-1.50         |             py_0          34 KB  conda-forge\n    geopy-1.20.0               |             py_0          57 KB  conda-forge\n    ------------------------------------------------------------\n                                           Total:         2.5 MB\n\nThe following NEW packages will be INSTALLED:\n\n    geographiclib:   1.50-py_0         conda-forge\n    geopy:           1.20.0-py_0       conda-forge\n\nThe following packages will be UPDATED:\n\n    ca-certificates: 2019.11.27-0                  --> 2019.11.28-hecc5488_0 conda-forge\n    certifi:         2019.11.28-py36_0             --> 2019.11.28-py36_0     conda-forge\n\nThe following packages will be DOWNGRADED:\n\n    openssl:         1.1.1d-h7b6447c_3             --> 1.1.1d-h516909a_0     conda-forge\n\n\nDownloading and Extracting Packages\nopenssl-1.1.1d       | 2.1 MB    | ##################################### | 100% \nca-certificates-2019 | 145 KB    | ##################################### | 100% \ncertifi-2019.11.28   | 149 KB    | ##################################### | 100% \ngeographiclib-1.50   | 34 KB     | ##################################### | 100% \ngeopy-1.20.0         | 57 KB     | ##################################### | 100% \nPreparing transaction: done\nVerifying transaction: done\nExecuting transaction: done\nSolving environment: done\n\n## Package Plan ##\n\n  environment location: /opt/conda/envs/Python36\n\n  added / updated specs: \n    - folium=0.5.0\n\n\nThe following packages will be downloaded:\n\n    package                    |            build\n    ---------------------------|-----------------\n    branca-0.3.1               |             py_0          25 KB  conda-forge\n    vincent-0.4.4              |             py_1          28 KB  conda-forge\n    folium-0.5.0               |             py_0          45 KB  conda-forge\n    altair-4.0.1               |             py_0         575 KB  conda-forge\n    ------------------------------------------------------------\n                                           Total:         673 KB\n\nThe following NEW packages will be INSTALLED:\n\n    altair:  4.0.1-py_0 conda-forge\n    branca:  0.3.1-py_0 conda-forge\n    folium:  0.5.0-py_0 conda-forge\n    vincent: 0.4.4-py_1 conda-forge\n\n\nDownloading and Extracting Packages\nbranca-0.3.1         | 25 KB     | ##################################### | 100% \nvincent-0.4.4        | 28 KB     | ##################################### | 100% \nfolium-0.5.0         | 45 KB     | ##################################### | 100% \naltair-4.0.1         | 575 KB    | ##################################### | 100% \nPreparing transaction: done\nVerifying transaction: done\nExecuting transaction: done\nLibraries imported.\n"
                }
            ],
            "source": "import numpy as np\nimport pandas as pd\nimport datetime as dt # Datetime\nimport json # library to handle JSON files\n\n!conda install -c conda-forge geopy --yes\nfrom geopy.geocoders import Nominatim # convert an address into latitude and longitude values\n\nimport requests # library to handle requests\nfrom pandas.io.json import json_normalize # tranform JSON file into a pandas dataframe\n\n# Matplotlib and associated plotting modules\nimport matplotlib.cm as cm\nimport matplotlib.colors as colors\n\n!conda install -c conda-forge folium=0.5.0 --yes\nimport folium #import folium # map rendering library\n\nprint('Libraries imported.')"
        },
        {
            "cell_type": "markdown",
            "metadata": {},
            "source": "We can import the list of suburbs in Sydney from arcgis."
        },
        {
            "cell_type": "code",
            "execution_count": 2,
            "metadata": {},
            "outputs": [
                {
                    "data": {
                        "text/html": "<div>\n<style scoped>\n    .dataframe tbody tr th:only-of-type {\n        vertical-align: middle;\n    }\n\n    .dataframe tbody tr th {\n        vertical-align: top;\n    }\n\n    .dataframe thead th {\n        text-align: right;\n    }\n</style>\n<table border=\"1\" class=\"dataframe\">\n  <thead>\n    <tr style=\"text-align: right;\">\n      <th></th>\n      <th>FID</th>\n      <th>NAME</th>\n      <th>F2005_06</th>\n      <th>F2006_07</th>\n      <th>F2007_08</th>\n      <th>F2008_09</th>\n      <th>F2009_10</th>\n      <th>F2010_11</th>\n      <th>F2011_12</th>\n      <th>F2012_13</th>\n      <th>F2013_14</th>\n      <th>F2014_15</th>\n      <th>Shape_Leng</th>\n      <th>Shape_Area</th>\n    </tr>\n  </thead>\n  <tbody>\n    <tr>\n      <th>0</th>\n      <td>1</td>\n      <td>Alexandria</td>\n      <td>179751048</td>\n      <td>179751048</td>\n      <td>1.803951e+08</td>\n      <td>1.644154e+08</td>\n      <td>1.542570e+08</td>\n      <td>1.623722e+08</td>\n      <td>1.631690e+08</td>\n      <td>155096161</td>\n      <td>1.455096e+08</td>\n      <td>147534614</td>\n      <td>10168.649178</td>\n      <td>3.523771e+06</td>\n    </tr>\n    <tr>\n      <th>1</th>\n      <td>2</td>\n      <td>Forest Lodge + Annandale</td>\n      <td>16720193</td>\n      <td>16720193</td>\n      <td>1.633630e+07</td>\n      <td>1.553792e+07</td>\n      <td>1.560317e+07</td>\n      <td>1.576891e+07</td>\n      <td>1.578564e+07</td>\n      <td>18743393</td>\n      <td>2.018737e+07</td>\n      <td>20761284</td>\n      <td>8654.226944</td>\n      <td>5.457704e+05</td>\n    </tr>\n    <tr>\n      <th>2</th>\n      <td>3</td>\n      <td>Millers Point + Barangaroo</td>\n      <td>39666586</td>\n      <td>39666586</td>\n      <td>4.135160e+07</td>\n      <td>4.160144e+07</td>\n      <td>4.184332e+07</td>\n      <td>4.059574e+07</td>\n      <td>3.791561e+07</td>\n      <td>34786136</td>\n      <td>3.014288e+07</td>\n      <td>37728668</td>\n      <td>3944.508809</td>\n      <td>4.634789e+05</td>\n    </tr>\n    <tr>\n      <th>3</th>\n      <td>4</td>\n      <td>Beaconsfield</td>\n      <td>8454492</td>\n      <td>8454492</td>\n      <td>1.012794e+07</td>\n      <td>1.192396e+07</td>\n      <td>1.233912e+07</td>\n      <td>1.284815e+07</td>\n      <td>1.251785e+07</td>\n      <td>9622120</td>\n      <td>5.212607e+06</td>\n      <td>5090894</td>\n      <td>1916.726468</td>\n      <td>1.674720e+05</td>\n    </tr>\n    <tr>\n      <th>4</th>\n      <td>5</td>\n      <td>Camperdown</td>\n      <td>116493273</td>\n      <td>116493273</td>\n      <td>1.195033e+08</td>\n      <td>1.225078e+08</td>\n      <td>1.260258e+08</td>\n      <td>1.267071e+08</td>\n      <td>1.245014e+08</td>\n      <td>129747022</td>\n      <td>1.334789e+08</td>\n      <td>139736392</td>\n      <td>7055.860737</td>\n      <td>1.072898e+06</td>\n    </tr>\n  </tbody>\n</table>\n</div>",
                        "text/plain": "   FID                        NAME   F2005_06   F2006_07      F2007_08  \\\n0    1                  Alexandria  179751048  179751048  1.803951e+08   \n1    2    Forest Lodge + Annandale   16720193   16720193  1.633630e+07   \n2    3  Millers Point + Barangaroo   39666586   39666586  4.135160e+07   \n3    4                Beaconsfield    8454492    8454492  1.012794e+07   \n4    5                  Camperdown  116493273  116493273  1.195033e+08   \n\n       F2008_09      F2009_10      F2010_11      F2011_12   F2012_13  \\\n0  1.644154e+08  1.542570e+08  1.623722e+08  1.631690e+08  155096161   \n1  1.553792e+07  1.560317e+07  1.576891e+07  1.578564e+07   18743393   \n2  4.160144e+07  4.184332e+07  4.059574e+07  3.791561e+07   34786136   \n3  1.192396e+07  1.233912e+07  1.284815e+07  1.251785e+07    9622120   \n4  1.225078e+08  1.260258e+08  1.267071e+08  1.245014e+08  129747022   \n\n       F2013_14   F2014_15    Shape_Leng    Shape_Area  \n0  1.455096e+08  147534614  10168.649178  3.523771e+06  \n1  2.018737e+07   20761284   8654.226944  5.457704e+05  \n2  3.014288e+07   37728668   3944.508809  4.634789e+05  \n3  5.212607e+06    5090894   1916.726468  1.674720e+05  \n4  1.334789e+08  139736392   7055.860737  1.072898e+06  "
                    },
                    "execution_count": 2,
                    "metadata": {},
                    "output_type": "execute_result"
                }
            ],
            "source": "# read suburb list from \ndf = pd.read_csv('https://opendata.arcgis.com/datasets/2a2b04faf74446309f7b22fd1d6651a2_0.csv')\ndf.head()"
        },
        {
            "cell_type": "markdown",
            "metadata": {},
            "source": "We then process the data to keep the five busiest suburbs only "
        },
        {
            "cell_type": "code",
            "execution_count": 3,
            "metadata": {},
            "outputs": [
                {
                    "data": {
                        "text/html": "<div>\n<style scoped>\n    .dataframe tbody tr th:only-of-type {\n        vertical-align: middle;\n    }\n\n    .dataframe tbody tr th {\n        vertical-align: top;\n    }\n\n    .dataframe thead th {\n        text-align: right;\n    }\n</style>\n<table border=\"1\" class=\"dataframe\">\n  <thead>\n    <tr style=\"text-align: right;\">\n      <th></th>\n      <th>NAME</th>\n    </tr>\n  </thead>\n  <tbody>\n    <tr>\n      <th>0</th>\n      <td>Alexandria</td>\n    </tr>\n    <tr>\n      <th>1</th>\n      <td>Forest Lodge + Annandale</td>\n    </tr>\n    <tr>\n      <th>2</th>\n      <td>Millers Point + Barangaroo</td>\n    </tr>\n    <tr>\n      <th>3</th>\n      <td>Beaconsfield</td>\n    </tr>\n    <tr>\n      <th>4</th>\n      <td>Camperdown</td>\n    </tr>\n  </tbody>\n</table>\n</div>",
                        "text/plain": "                         NAME\n0                  Alexandria\n1    Forest Lodge + Annandale\n2  Millers Point + Barangaroo\n3                Beaconsfield\n4                  Camperdown"
                    },
                    "execution_count": 3,
                    "metadata": {},
                    "output_type": "execute_result"
                }
            ],
            "source": "df.drop(df.columns.difference(['NAME']), 1, inplace=True)\ndf.head()"
        },
        {
            "cell_type": "code",
            "execution_count": 4,
            "metadata": {},
            "outputs": [],
            "source": "keep_list=['Sydney', 'The Rocks', 'Haymarket', 'Pyrmont', 'Ultimo']\ndf2=df[df['NAME'].isin(keep_list)]"
        },
        {
            "cell_type": "code",
            "execution_count": null,
            "metadata": {},
            "outputs": [
                {
                    "data": {
                        "text/html": "<div>\n<style scoped>\n    .dataframe tbody tr th:only-of-type {\n        vertical-align: middle;\n    }\n\n    .dataframe tbody tr th {\n        vertical-align: top;\n    }\n\n    .dataframe thead th {\n        text-align: right;\n    }\n</style>\n<table border=\"1\" class=\"dataframe\">\n  <thead>\n    <tr style=\"text-align: right;\">\n      <th></th>\n      <th>NAME</th>\n    </tr>\n  </thead>\n  <tbody>\n    <tr>\n      <th>14</th>\n      <td>Haymarket</td>\n    </tr>\n    <tr>\n      <th>19</th>\n      <td>Pyrmont</td>\n    </tr>\n    <tr>\n      <th>24</th>\n      <td>Sydney</td>\n    </tr>\n    <tr>\n      <th>25</th>\n      <td>The Rocks</td>\n    </tr>\n    <tr>\n      <th>26</th>\n      <td>Ultimo</td>\n    </tr>\n  </tbody>\n</table>\n</div>",
                        "text/plain": "         NAME\n14  Haymarket\n19    Pyrmont\n24     Sydney\n25  The Rocks\n26     Ultimo"
                    },
                    "execution_count": 5,
                    "metadata": {},
                    "output_type": "execute_result"
                }
            ],
            "source": "df2"
        },
        {
            "cell_type": "markdown",
            "metadata": {},
            "source": "### 2.2 Getting Coordinates of suburbs\n\nWe can get the coordinates of these five suburbs using geocoder class of Geopy client"
        },
        {
            "cell_type": "code",
            "execution_count": null,
            "metadata": {},
            "outputs": [],
            "source": "geolocator = Nominatim(user_agent=\"Sydney_explorer\")\ndf2['City_coord'] = df2['NAME'].apply(geolocator.geocode).apply(lambda x: (x.latitude, x.longitude))"
        },
        {
            "cell_type": "code",
            "execution_count": null,
            "metadata": {},
            "outputs": [],
            "source": "df2[['Latitude', 'Longitude']] = df2['City_coord'].apply(pd.Series)"
        },
        {
            "cell_type": "code",
            "execution_count": null,
            "metadata": {},
            "outputs": [],
            "source": "df2 = df2.drop(columns=['City_coord'])"
        },
        {
            "cell_type": "code",
            "execution_count": null,
            "metadata": {
                "scrolled": true
            },
            "outputs": [],
            "source": "df2"
        },
        {
            "cell_type": "markdown",
            "metadata": {},
            "source": "As you can see the coordinates of Haymarket and Ultimo are completely wrong, which is due similar suburb names in other countries so, I had to replace these coordinates with values acquired from google search."
        },
        {
            "cell_type": "code",
            "execution_count": null,
            "metadata": {},
            "outputs": [],
            "source": "df2['Latitude'][14] = -33.8809\ndf2['Longitude'][14] = 151.2029\ndf2['Latitude'][26] = -33.8822\ndf2['Longitude'][26] = 151.1970"
        },
        {
            "cell_type": "code",
            "execution_count": null,
            "metadata": {},
            "outputs": [],
            "source": "df2"
        },
        {
            "cell_type": "code",
            "execution_count": null,
            "metadata": {},
            "outputs": [],
            "source": "address = 'Sydney, Australia'\n\ngeolocator = Nominatim()\nlocation = geolocator.geocode(address)\nlatitude = location.latitude\nlongitude = location.longitude\nprint('The geograpical coordinate of Sydney are {}, {}.'.format(latitude, longitude))"
        },
        {
            "cell_type": "markdown",
            "metadata": {},
            "source": "Visualisation of the five suburbs"
        },
        {
            "cell_type": "code",
            "execution_count": null,
            "metadata": {},
            "outputs": [],
            "source": "map_sydney = folium.Map(location=[latitude, longitude], zoom_start=13)\n\n# add markers to map\nfor lat, lng, suburb in zip(df2['Latitude'], df2['Longitude'], df2['NAME']):\n    label = '{}'.format(suburb)\n    label = folium.Popup(label, parse_html=True)\n    folium.CircleMarker(\n        [lat, lng],\n        radius=5,\n        popup=label,\n        color='blue',\n        fill=True,\n        fill_color='#3186cc',\n        fill_opacity=0.7,\n        parse_html=False).add_to(map_sydney)  \n    \nmap_sydney"
        },
        {
            "cell_type": "markdown",
            "metadata": {},
            "source": "Looking at the map, you can clearly tell that the coordination of Sydney suburb is wrong (i.e. right in the water). Therefore, we should replace it with Town Hall Station coordinate, which is the centre of Sydney CBD"
        },
        {
            "cell_type": "code",
            "execution_count": null,
            "metadata": {},
            "outputs": [],
            "source": "df2['Latitude'][24] = -33.8735\ndf2['Longitude'][24] = 151.2069"
        },
        {
            "cell_type": "markdown",
            "metadata": {},
            "source": "### 2.3 Using Foursquare Location Data\n\nTo explore and target recommended locations across different venues according to the presence of restaurants, we will access data through FourSquare API interface and arrange them as a dataframe for visualization. Foursquare data is very comprehensive and it powers location data for Apple, Uber etc. For this business problem I have used, as a part of the assignment, the Foursquare API to retrieve information about the popular spots around these five suburbs.\n\nIn this analysis, I\u2019ve chosen 100 popular spots for each major suburb within a radius of 0.5 km."
        },
        {
            "cell_type": "code",
            "execution_count": null,
            "metadata": {},
            "outputs": [],
            "source": "CLIENT_ID = 'TBSAWZA34Y1WK5SFX0LKDMURD2U1C3C5AWE1SWSVTE5J2AXJ' # your Foursquare ID\nCLIENT_SECRET = '0B5O15IRU01GNF1N42ONWDZTTUPQFADEJNSF1RBKIHFCJEE5' # your Foursquare Secret\nVERSION = '20180605' # Foursquare API version\n\nprint('Your credentails:')\nprint('CLIENT_ID: ' + CLIENT_ID)\nprint('CLIENT_SECRET:' + CLIENT_SECRET)"
        },
        {
            "cell_type": "code",
            "execution_count": null,
            "metadata": {},
            "outputs": [],
            "source": "def getNearbyVenues(names, latitudes, longitudes, radius=500, LIMIT = 100):\n    \n    venues_list=[]\n    for name, lat, lng in zip(names, latitudes, longitudes):\n        print(name)\n            \n        # create the API request URL\n        url = 'https://api.foursquare.com/v2/venues/explore?&client_id={}&client_secret={}&v={}&ll={},{}&radius={}&limit={}'.format(\n            CLIENT_ID, \n            CLIENT_SECRET, \n            VERSION, \n            lat, \n            lng, \n            radius, \n            LIMIT)\n            \n        # make the GET request\n        results = requests.get(url).json()[\"response\"]['groups'][0]['items']\n        \n        # return only relevant information for each nearby venue\n        venues_list.append([(\n            name, \n            lat, \n            lng, \n            v['venue']['name'], \n            v['venue']['location']['lat'], \n            v['venue']['location']['lng'],  \n            v['venue']['categories'][0]['name']) for v in results])\n\n    nearby_venues = pd.DataFrame([item for venue_list in venues_list for item in venue_list])\n    nearby_venues.columns = ['Suburb', \n                  'Suburb Latitude', \n                  'Suburb Longitude', \n                  'Venue', \n                  'Venue Latitude', \n                  'Venue Longitude', \n                  'Venue Category']\n    \n    return(nearby_venues)"
        },
        {
            "cell_type": "code",
            "execution_count": null,
            "metadata": {},
            "outputs": [],
            "source": "sydney_venues = getNearbyVenues(names=df2['NAME'],\n                                   latitudes=df2['Latitude'],\n                                   longitudes=df2['Longitude']\n                                  )\n\nprint(\"Shape of venue dataframe is \", sydney_venues.shape)\nsydney_venues.head()"
        },
        {
            "cell_type": "markdown",
            "metadata": {},
            "source": "A quick look at the number of venues in each suburb:"
        },
        {
            "cell_type": "code",
            "execution_count": null,
            "metadata": {},
            "outputs": [],
            "source": "sydney_venues.groupby('Suburb').count()"
        },
        {
            "cell_type": "code",
            "execution_count": null,
            "metadata": {},
            "outputs": [],
            "source": "# get the List of Unique Categories\nprint('There are {} uniques categories.'.format(len(sydney_venues['Venue Category'].unique())))"
        },
        {
            "cell_type": "markdown",
            "metadata": {},
            "source": "## 3. Exploratory Data Analysis\n\n### 3.1 Processing data\n\nTo make the data ready for analysing, we create a data-frame with pandas one hot encoding for the venue categories"
        },
        {
            "cell_type": "code",
            "execution_count": null,
            "metadata": {},
            "outputs": [],
            "source": "# one hot encoding\nvenues_onehot = pd.get_dummies(sydney_venues[['Venue Category']], prefix=\"\", prefix_sep=\"\")\n\n# add street column back to dataframe\nvenues_onehot['Suburb'] = sydney_venues['Suburb'] \n\n# move street column to the first column\nfixed_columns = [venues_onehot.columns[-1]] + list(venues_onehot.columns[:-1])\n\n#fixed_columns\nvenues_onehot = venues_onehot[fixed_columns]\n\nvenues_onehot.head()"
        },
        {
            "cell_type": "code",
            "execution_count": null,
            "metadata": {},
            "outputs": [],
            "source": "sydney_grouped = venues_onehot.groupby('Suburb').mean().reset_index()\nsydney_grouped"
        },
        {
            "cell_type": "markdown",
            "metadata": {},
            "source": "### 3.2 Analysing the top venues\n\nThis analysis is to identify the top venues in suburb to get a deeper understanding of the data."
        },
        {
            "cell_type": "code",
            "execution_count": null,
            "metadata": {},
            "outputs": [],
            "source": "num_top_venues = 10\n\nindicators = ['st', 'nd', 'rd']\n\n# create columns according to number of top venues\ncolumns = ['Suburb']\nfor ind in np.arange(num_top_venues):\n    try:\n        columns.append('{}{} Most Common Venue'.format(ind+1, indicators[ind]))\n    except:\n        columns.append('{}th Most Common Venue'.format(ind+1))"
        },
        {
            "cell_type": "code",
            "execution_count": null,
            "metadata": {},
            "outputs": [],
            "source": "# Define a function to return the most common venue\n\ndef return_most_common_venues(row, num_top_venues):\n    row_categories = row.iloc[1:]\n    row_categories_sorted = row_categories.sort_values(ascending=False)\n    \n    return row_categories_sorted.index.values[0:num_top_venues]"
        },
        {
            "cell_type": "code",
            "execution_count": null,
            "metadata": {},
            "outputs": [],
            "source": "# create a new dataframe\nvenues_sorted = pd.DataFrame(columns=columns)\nvenues_sorted['Suburb'] = sydney_grouped['Suburb']\n\nfor ind in np.arange(sydney_grouped.shape[0]):\n    venues_sorted.iloc[ind, 1:] = return_most_common_venues(sydney_grouped.iloc[ind, :], num_top_venues)"
        },
        {
            "cell_type": "markdown",
            "metadata": {},
            "source": "The top ten venues of each suburb are shown below:"
        },
        {
            "cell_type": "code",
            "execution_count": null,
            "metadata": {},
            "outputs": [],
            "source": "venues_sorted.head()"
        },
        {
            "cell_type": "markdown",
            "metadata": {},
            "source": "### 3.3 Clustering the suburbs\n\nWe cluster these five suburbs based on the venue categories and use K-Means clustering. So our expectation would be based on the similarities of venue categories, these districts will be clustered."
        },
        {
            "cell_type": "code",
            "execution_count": null,
            "metadata": {},
            "outputs": [],
            "source": "#Distribute in 3 Clusters\nfrom sklearn.cluster import KMeans \nfrom sklearn.datasets.samples_generator import make_blobs\n# set number of clusters\nkclusters = 3\n\nsydney_grouped_clustering = sydney_grouped.drop('Suburb', 1)\n\n# run k-means clustering\nkmeans = KMeans(n_clusters=kclusters, random_state=0).fit(sydney_grouped_clustering)\n\n# check cluster labels generated for each row in the dataframe\nkmeans.labels_[0:50]"
        },
        {
            "cell_type": "code",
            "execution_count": null,
            "metadata": {},
            "outputs": [],
            "source": "sydney_grouped_clustering"
        },
        {
            "cell_type": "code",
            "execution_count": null,
            "metadata": {},
            "outputs": [],
            "source": "# add clustering labels\nvenues_sorted.insert(0, 'Cluster Labels', kmeans.labels_)"
        },
        {
            "cell_type": "code",
            "execution_count": null,
            "metadata": {},
            "outputs": [],
            "source": "venues_sorted.columns.values[1]='NAME'"
        },
        {
            "cell_type": "markdown",
            "metadata": {},
            "source": "The clusters are shown in below:"
        },
        {
            "cell_type": "code",
            "execution_count": null,
            "metadata": {},
            "outputs": [],
            "source": "sydney_merged = df2\n# merge sydney_merged with venue data to add latitude/longitude for each suburb\nsydney_merged = sydney_merged.join(venues_sorted.set_index('NAME'), on='NAME')\n\nsydney_merged.head() # check the last columns!"
        },
        {
            "cell_type": "markdown",
            "metadata": {},
            "source": "A visualisation of the clusters:"
        },
        {
            "cell_type": "code",
            "execution_count": null,
            "metadata": {},
            "outputs": [],
            "source": "# create map\nmap_clusters = folium.Map(location=[latitude, longitude], zoom_start=13)\n\n# set color scheme for the clusters\nx = np.arange(kclusters)\nys = [i + x + (i*x)**2 for i in range(kclusters)]\ncolors_array = cm.rainbow(np.linspace(0, 1, len(ys)))\nrainbow = [colors.rgb2hex(i) for i in colors_array]\n\n# add markers to the map\nmarkers_colors = []\nfor lat, lon, poi, cluster in zip(sydney_merged['Latitude'], sydney_merged['Longitude'], sydney_merged['NAME'], sydney_merged['Cluster Labels']):\n    label = folium.Popup(str(poi) + ' Cluster ' + str(cluster), parse_html=True)\n    folium.CircleMarker(\n        [lat, lon],\n        radius=5,\n        popup=label,\n        color=rainbow[cluster-1],\n        fill=True,\n        fill_color=rainbow[cluster-1],\n        fill_opacity=0.7).add_to(map_clusters)\n       \nmap_clusters"
        },
        {
            "cell_type": "markdown",
            "metadata": {},
            "source": "This is the final result to use to make decision"
        },
        {
            "cell_type": "code",
            "execution_count": null,
            "metadata": {},
            "outputs": [],
            "source": "sydney_merged.head()"
        },
        {
            "cell_type": "markdown",
            "metadata": {},
            "source": "From the grouping above, The Rocks is the best place to open a restaurant because:\n* It is similar to Sydney in term of amenties\n* The most frequently visited places are cafe and hotel, which leaves an opportunity to open a restaurant\n\nThe next question is which type of restaurant we should open in The Rocks\n\n### 3.4 Analysing restaurant types"
        },
        {
            "cell_type": "code",
            "execution_count": null,
            "metadata": {},
            "outputs": [],
            "source": "sydney_restaurant = sydney_venues[sydney_venues['Venue Category'].str.contains('Restaurant')].reset_index(drop=True)\nprint(\"Shape of the dataframe including restaurants in Sydney\", sydney_restaurant.shape)\nsydney_restaurant.head()"
        },
        {
            "cell_type": "code",
            "execution_count": null,
            "metadata": {
                "scrolled": false
            },
            "outputs": [],
            "source": "sydney_restaurant_sort=pd.crosstab(sydney_restaurant['Suburb'], sydney_restaurant['Venue Category'])\nsydney_restaurant_sort['Total'] = sydney_restaurant_sort.sum(axis=1)\ndf_t = sydney_restaurant_sort.T\nprint(df_t)"
        },
        {
            "cell_type": "markdown",
            "metadata": {},
            "source": "A quick look at the types of restaurants in The Rocks, we can find that the suburb is dominant by \"Autralian restaurants\".There are only 2 Japanese restaurants, compared to 9 in Sydney. Therefore, we recommend opening a Japanese restaurant in The Rocks to fill the gap and also to take advantage of a large number of tourists staying in this suburb. "
        },
        {
            "cell_type": "markdown",
            "metadata": {},
            "source": "## 4. Results and Discussion\n\nWe first examine the five suburbs in question according to the amenties. They are clustered in three groups: \n* The Rocks and Sydney\n* Pyrmont and Ultimo\n* Haymarket\n\nThe Rocks and Sydney suburbs are host to the world-famous Opera House and also busy business areas. These two suburbs are similar and therefore clustered together. However, The Rocks is chosen by tourists- favouring hotels and cafes, where Sydney suburb is preferred by Japanese restaurant lovers.\n\nPyrmont and Ultimo are popular residental areas for young people, therefore it is understandable that these two areas are grouped together with cafe being the most visited venue. The data confirms the point that these two areas are not great to open restaurants.\n\nHaymarket, where Chinatown is located, is famous for Asian dining, thus, not a good area to open the restaurant business.\n\nOur first conclusion is that The Rocks is the best area to open a restaurant.\n\nSecondly, we take a further look at types of restaurants in The Rocks. We  find that the suburb is dominant by \"Autralian restaurants\".There are only 2 Japanese restaurants, compared to 9 in Sydney. Therefore, we recommend opening a Japanese restaurant in The Rocks to fill the gap and also to take advantage of a large number of tourists staying in this suburb. "
        },
        {
            "cell_type": "markdown",
            "metadata": {},
            "source": "## 5. Conclusion\n\nTo sum up, Sydney has the privilege of being in the world's top ten cities for standard of living. The city has a reputation for the variety of restaurants with dishes from all over the world. Therefore it is a good idea to start investing in a restaurant business in the city. The business problem we try to answer is which suburb and which type of restaurant to invest in.\n\nTo solve this business problem, we clustered Sydney suburbs based on venues to identify the most profitable businesses in the area using Foursquare API. The results in fact aligns with waht I expect after staying 4 years in Sydney. After finding the optimal suburb for restaurant business - The Rocks, we then do a further investigation on the restaurant type. The final conclusion is that  we should open a Japanese restaurant in The Rocks. \n\nHope you have enjoyed the analysis and get a small glimpse of how Sydney suburbs are."
        }
    ],
    "metadata": {
        "kernelspec": {
            "display_name": "Python 3.6",
            "language": "python",
            "name": "python3"
        },
        "language_info": {
            "codemirror_mode": {
                "name": "ipython",
                "version": 3
            },
            "file_extension": ".py",
            "mimetype": "text/x-python",
            "name": "python",
            "nbconvert_exporter": "python",
            "pygments_lexer": "ipython3",
            "version": "3.6.9"
        }
    },
    "nbformat": 4,
    "nbformat_minor": 1
}